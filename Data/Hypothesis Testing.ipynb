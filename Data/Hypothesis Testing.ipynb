{
 "cells": [
  {
   "cell_type": "markdown",
   "id": "5da6c2ed",
   "metadata": {},
   "source": [
    "For this assignment, we will be working with the [US Health Insurance Dataset]('https://docs.google.com/spreadsheets/d/e/2PACX-1vQBN8DPW2rdiRrY34eEM53HAzakNGSRrw4ogI-j8HyCUrbqTB_z4CeIn2IvjLF-w_6sOe5pIlypJGAA/pub?output=csv') from Kaggle.\n",
    "\n",
    "We have been asked to use our hypothesis testing skills to answer the following questions:\n",
    "\n",
    "- Q1. Do smokers have higher insurance charges than non-smokers?\n",
    "- Q2. Are men more likely to smoke than women?\n",
    "- Q3. Do different regions have different charges, on average?\n",
    "---\n",
    "For each question, make sure to:\n",
    "\n",
    "1. State your Null Hypothesis and Alternative Hypothesis\n",
    "2. Select the correct test according to the data type and number of samples\n",
    "3. Test the assumptions of your selected test.\n",
    "4. Execute the selected test, or the alternative test (if you do not meet the assumptions)\n",
    "5. Interpret your p-value and reject or fail to reject your null hypothesis \n",
    "6. Show a supporting visualization that helps display the result"
   ]
  },
  {
   "cell_type": "code",
   "execution_count": 57,
   "id": "613133d8",
   "metadata": {},
   "outputs": [],
   "source": [
    "import pandas as pd\n",
    "import numpy as np\n",
    "import matplotlib.pyplot as plt\n",
    "import seaborn as sns\n",
    "import scipy.stats as stats"
   ]
  },
  {
   "cell_type": "code",
   "execution_count": 58,
   "id": "49919095",
   "metadata": {
    "scrolled": true
   },
   "outputs": [
    {
     "data": {
      "text/html": [
       "<div>\n",
       "<style scoped>\n",
       "    .dataframe tbody tr th:only-of-type {\n",
       "        vertical-align: middle;\n",
       "    }\n",
       "\n",
       "    .dataframe tbody tr th {\n",
       "        vertical-align: top;\n",
       "    }\n",
       "\n",
       "    .dataframe thead th {\n",
       "        text-align: right;\n",
       "    }\n",
       "</style>\n",
       "<table border=\"1\" class=\"dataframe\">\n",
       "  <thead>\n",
       "    <tr style=\"text-align: right;\">\n",
       "      <th></th>\n",
       "      <th>age</th>\n",
       "      <th>sex</th>\n",
       "      <th>bmi</th>\n",
       "      <th>children</th>\n",
       "      <th>smoker</th>\n",
       "      <th>region</th>\n",
       "      <th>charges</th>\n",
       "    </tr>\n",
       "  </thead>\n",
       "  <tbody>\n",
       "    <tr>\n",
       "      <th>0</th>\n",
       "      <td>19</td>\n",
       "      <td>female</td>\n",
       "      <td>27.900</td>\n",
       "      <td>0</td>\n",
       "      <td>yes</td>\n",
       "      <td>southwest</td>\n",
       "      <td>16884.92400</td>\n",
       "    </tr>\n",
       "    <tr>\n",
       "      <th>1</th>\n",
       "      <td>18</td>\n",
       "      <td>male</td>\n",
       "      <td>33.770</td>\n",
       "      <td>1</td>\n",
       "      <td>no</td>\n",
       "      <td>southeast</td>\n",
       "      <td>1725.55230</td>\n",
       "    </tr>\n",
       "    <tr>\n",
       "      <th>2</th>\n",
       "      <td>28</td>\n",
       "      <td>male</td>\n",
       "      <td>33.000</td>\n",
       "      <td>3</td>\n",
       "      <td>no</td>\n",
       "      <td>southeast</td>\n",
       "      <td>4449.46200</td>\n",
       "    </tr>\n",
       "    <tr>\n",
       "      <th>3</th>\n",
       "      <td>33</td>\n",
       "      <td>male</td>\n",
       "      <td>22.705</td>\n",
       "      <td>0</td>\n",
       "      <td>no</td>\n",
       "      <td>northwest</td>\n",
       "      <td>21984.47061</td>\n",
       "    </tr>\n",
       "    <tr>\n",
       "      <th>4</th>\n",
       "      <td>32</td>\n",
       "      <td>male</td>\n",
       "      <td>28.880</td>\n",
       "      <td>0</td>\n",
       "      <td>no</td>\n",
       "      <td>northwest</td>\n",
       "      <td>3866.85520</td>\n",
       "    </tr>\n",
       "  </tbody>\n",
       "</table>\n",
       "</div>"
      ],
      "text/plain": [
       "   age     sex     bmi  children smoker     region      charges\n",
       "0   19  female  27.900         0    yes  southwest  16884.92400\n",
       "1   18    male  33.770         1     no  southeast   1725.55230\n",
       "2   28    male  33.000         3     no  southeast   4449.46200\n",
       "3   33    male  22.705         0     no  northwest  21984.47061\n",
       "4   32    male  28.880         0     no  northwest   3866.85520"
      ]
     },
     "execution_count": 58,
     "metadata": {},
     "output_type": "execute_result"
    }
   ],
   "source": [
    "#import csv\n",
    "df = pd.read_csv('/Users/Rashad/Documents/GitHub/Hypothesis Testing with Insurance Data_CORE/Hypothesis-Testing-with-Insurance-Data_CORE/Data/insurance - insurance.csv')\n",
    "df.head()"
   ]
  },
  {
   "cell_type": "code",
   "execution_count": 59,
   "id": "025c7d37",
   "metadata": {},
   "outputs": [
    {
     "name": "stdout",
     "output_type": "stream",
     "text": [
      "<class 'pandas.core.frame.DataFrame'>\n",
      "RangeIndex: 1338 entries, 0 to 1337\n",
      "Data columns (total 7 columns):\n",
      " #   Column    Non-Null Count  Dtype  \n",
      "---  ------    --------------  -----  \n",
      " 0   age       1338 non-null   int64  \n",
      " 1   sex       1338 non-null   object \n",
      " 2   bmi       1338 non-null   float64\n",
      " 3   children  1338 non-null   int64  \n",
      " 4   smoker    1338 non-null   object \n",
      " 5   region    1338 non-null   object \n",
      " 6   charges   1338 non-null   float64\n",
      "dtypes: float64(2), int64(2), object(3)\n",
      "memory usage: 73.3+ KB\n"
     ]
    }
   ],
   "source": [
    "df.info()"
   ]
  },
  {
   "cell_type": "markdown",
   "id": "f9f8e495",
   "metadata": {},
   "source": [
    "# Q1. Do smokers have higher insurance charges than non-smokers?"
   ]
  },
  {
   "cell_type": "markdown",
   "id": "5a639493",
   "metadata": {},
   "source": [
    "1. Do smokers have a higher average insurance charges than non-smokers?\n",
    "2. Metric measurement:  'charges'\n",
    "3. I expect smokers to have higher insurance charges than non-smokers.\n",
    "\n",
    "***Null Hypothesis:***  There is no difference between insurance charges between smokers and non-smokers.\n",
    "\n",
    "***Alternate Hypothesis:***  Smokers have a higher average insurance cost than non-smokers."
   ]
  },
  {
   "cell_type": "markdown",
   "id": "bff3baaa",
   "metadata": {},
   "source": [
    "## The test is based on Numeric data `charges`."
   ]
  },
  {
   "cell_type": "code",
   "execution_count": 60,
   "id": "8cfb803a",
   "metadata": {
    "scrolled": true
   },
   "outputs": [
    {
     "data": {
      "text/html": [
       "<div>\n",
       "<style scoped>\n",
       "    .dataframe tbody tr th:only-of-type {\n",
       "        vertical-align: middle;\n",
       "    }\n",
       "\n",
       "    .dataframe tbody tr th {\n",
       "        vertical-align: top;\n",
       "    }\n",
       "\n",
       "    .dataframe thead th {\n",
       "        text-align: right;\n",
       "    }\n",
       "</style>\n",
       "<table border=\"1\" class=\"dataframe\">\n",
       "  <thead>\n",
       "    <tr style=\"text-align: right;\">\n",
       "      <th></th>\n",
       "      <th>age</th>\n",
       "      <th>sex</th>\n",
       "      <th>bmi</th>\n",
       "      <th>children</th>\n",
       "      <th>smoker</th>\n",
       "      <th>region</th>\n",
       "      <th>charges</th>\n",
       "    </tr>\n",
       "  </thead>\n",
       "  <tbody>\n",
       "    <tr>\n",
       "      <th>0</th>\n",
       "      <td>19</td>\n",
       "      <td>female</td>\n",
       "      <td>27.90</td>\n",
       "      <td>0</td>\n",
       "      <td>yes</td>\n",
       "      <td>southwest</td>\n",
       "      <td>16884.9240</td>\n",
       "    </tr>\n",
       "    <tr>\n",
       "      <th>1</th>\n",
       "      <td>18</td>\n",
       "      <td>male</td>\n",
       "      <td>33.77</td>\n",
       "      <td>1</td>\n",
       "      <td>no</td>\n",
       "      <td>southeast</td>\n",
       "      <td>1725.5523</td>\n",
       "    </tr>\n",
       "  </tbody>\n",
       "</table>\n",
       "</div>"
      ],
      "text/plain": [
       "   age     sex    bmi  children smoker     region     charges\n",
       "0   19  female  27.90         0    yes  southwest  16884.9240\n",
       "1   18    male  33.77         1     no  southeast   1725.5523"
      ]
     },
     "execution_count": 60,
     "metadata": {},
     "output_type": "execute_result"
    }
   ],
   "source": [
    "df.head(2)"
   ]
  },
  {
   "cell_type": "markdown",
   "id": "fa83287d",
   "metadata": {},
   "source": [
    "## 2 Sample T-Test"
   ]
  },
  {
   "cell_type": "code",
   "execution_count": 61,
   "id": "866d2d21",
   "metadata": {
    "scrolled": true
   },
   "outputs": [
    {
     "name": "stdout",
     "output_type": "stream",
     "text": [
      "For SMOKERS (n=274):  Mean\\Average=32050.23\n",
      "For NON-SMOKERS (n=1064):  Mean\\Average=8434.27\n"
     ]
    }
   ],
   "source": [
    "#Filtering data.\n",
    "\n",
    "sample = df.sample(n=1338,random_state=23)\n",
    "\n",
    "smoker_charges = sample.loc[ sample['smoker']=='yes',\"charges\"]\n",
    "non_smoker_charges = sample.loc[ sample['smoker']=='no',\"charges\"]\n",
    "\n",
    "## Getting means for smoker and non-smoker charges\n",
    "print(f\"For SMOKERS (n={len(smoker_charges)}):  Mean\\Average={np.mean(smoker_charges):.2f}\")\n",
    "print(f\"For NON-SMOKERS (n={len(non_smoker_charges)}):  Mean\\Average={np.mean(non_smoker_charges):.2f}\")"
   ]
  },
  {
   "cell_type": "code",
   "execution_count": 62,
   "id": "8ef2c49a",
   "metadata": {
    "scrolled": true
   },
   "outputs": [
    {
     "data": {
      "text/html": [
       "<div>\n",
       "<style scoped>\n",
       "    .dataframe tbody tr th:only-of-type {\n",
       "        vertical-align: middle;\n",
       "    }\n",
       "\n",
       "    .dataframe tbody tr th {\n",
       "        vertical-align: top;\n",
       "    }\n",
       "\n",
       "    .dataframe thead th {\n",
       "        text-align: right;\n",
       "    }\n",
       "</style>\n",
       "<table border=\"1\" class=\"dataframe\">\n",
       "  <thead>\n",
       "    <tr style=\"text-align: right;\">\n",
       "      <th></th>\n",
       "      <th>age</th>\n",
       "      <th>sex</th>\n",
       "      <th>bmi</th>\n",
       "      <th>children</th>\n",
       "      <th>smoker</th>\n",
       "      <th>region</th>\n",
       "      <th>charges</th>\n",
       "    </tr>\n",
       "  </thead>\n",
       "  <tbody>\n",
       "    <tr>\n",
       "      <th>0</th>\n",
       "      <td>19</td>\n",
       "      <td>female</td>\n",
       "      <td>27.90</td>\n",
       "      <td>0</td>\n",
       "      <td>yes</td>\n",
       "      <td>southwest</td>\n",
       "      <td>16884.9240</td>\n",
       "    </tr>\n",
       "    <tr>\n",
       "      <th>1</th>\n",
       "      <td>18</td>\n",
       "      <td>male</td>\n",
       "      <td>33.77</td>\n",
       "      <td>1</td>\n",
       "      <td>no</td>\n",
       "      <td>southeast</td>\n",
       "      <td>1725.5523</td>\n",
       "    </tr>\n",
       "  </tbody>\n",
       "</table>\n",
       "</div>"
      ],
      "text/plain": [
       "   age     sex    bmi  children smoker     region     charges\n",
       "0   19  female  27.90         0    yes  southwest  16884.9240\n",
       "1   18    male  33.77         1     no  southeast   1725.5523"
      ]
     },
     "execution_count": 62,
     "metadata": {},
     "output_type": "execute_result"
    }
   ],
   "source": [
    "df.head(2)"
   ]
  },
  {
   "cell_type": "code",
   "execution_count": 63,
   "id": "8354f8fe",
   "metadata": {
    "scrolled": true
   },
   "outputs": [
    {
     "data": {
      "image/png": "[encoded data removed]",
      "text/plain": [
       "<Figure size 1000x500 with 2 Axes>"
      ]
     },
     "metadata": {},
     "output_type": "display_data"
    }
   ],
   "source": [
    "smoker_palette={'yes':'dodgerblue', \"no\":'salmon'}\n",
    "## Visualizing Sample means\n",
    "fig, (ax,ax_bar) = plt.subplots(figsize= (10,5), ncols=2, \n",
    "                                constrained_layout=True,\n",
    "                                gridspec_kw={'width_ratios':[0.8,0.2]})\n",
    "\n",
    "\n",
    "# Histogram\n",
    "ax = sns.histplot(data=sample, x='charges',fill=True,hue='smoker',kde=True,\n",
    "                  stat='density',common_norm=False,ax=ax,\n",
    "                  palette=smoker_palette)\n",
    "\n",
    "ax.axvline(np.mean(smoker_charges), ls='--',lw=3, \n",
    "           label=f\"SMOKER (Mean={np.mean(smoker_charges):.2f})\",color=smoker_palette['yes'])\n",
    "\n",
    "ax.axvline(np.mean(non_smoker_charges), ls='--', lw=3, \n",
    "           label=f\"NON-SMOKER (Mean={np.mean(non_smoker_charges):.2f})\",color=smoker_palette['no'])\n",
    "\n",
    "ax.legend(prop={\"size\":14}, loc='upper right')#bbox_to_anchor=[1,1])\n",
    "## Barplot\n",
    "sns.barplot(data=sample, x='smoker',y='charges',ax = ax_bar,palette=smoker_palette)\n",
    "fig.suptitle('Comparison of Charges by Smoker Status',fontsize='xx-large');"
   ]
  },
  {
   "cell_type": "markdown",
   "id": "19768663",
   "metadata": {},
   "source": [
    "## Testing Assumptions\n",
    "1. No significant OUTLIERS\n",
    "2. NORMALITY\n",
    "3. EQUAL VARIANCE"
   ]
  },
  {
   "cell_type": "markdown",
   "id": "7ec1d243",
   "metadata": {},
   "source": [
    "### Testing for Outliers\n",
    "NOTE:  Typically z-scores greater than 3 are considered outliers. "
   ]
  },
  {
   "cell_type": "code",
   "execution_count": 64,
   "id": "89104c41",
   "metadata": {},
   "outputs": [
    {
     "name": "stdout",
     "output_type": "stream",
     "text": [
      "Z-Score for SMOKERS:  0\n"
     ]
    }
   ],
   "source": [
    "#Smoker Z-Score\n",
    "zscores_smoker = stats.zscore(smoker_charges)\n",
    "outliers_smoker = abs(zscores_smoker)>3\n",
    "print( f\"Z-Score for SMOKERS:  {np.sum(outliers_smoker)}\" )"
   ]
  },
  {
   "cell_type": "code",
   "execution_count": 65,
   "id": "37e5fc13",
   "metadata": {},
   "outputs": [
    {
     "name": "stdout",
     "output_type": "stream",
     "text": [
      "Z-Score for NON-SMOKERS:  24\n"
     ]
    }
   ],
   "source": [
    "#Non-Smoker Z-Score\n",
    "zscores_non_smoker = stats.zscore(non_smoker_charges)\n",
    "outliers_non_smoker = abs(zscores_non_smoker)>3\n",
    "print( f\"Z-Score for NON-SMOKERS:  {np.sum(outliers_non_smoker)}\" )"
   ]
  },
  {
   "cell_type": "code",
   "execution_count": 66,
   "id": "b3969f43",
   "metadata": {},
   "outputs": [],
   "source": [
    "#Remove outliers from non_smoker group.\n",
    "## ONLY REMOVE AN OUTLIER ONCE,\n",
    "## REGARDLESS OF INITIAL VALUE THAT INDICATED THAT REMOVAL WAS NEEDED.\n",
    "\n",
    "non_smoker_charges = non_smoker_charges[(np.abs(stats.zscore(non_smoker_charges)) < 3)]"
   ]
  },
  {
   "cell_type": "code",
   "execution_count": 67,
   "id": "07d6475b",
   "metadata": {},
   "outputs": [
    {
     "name": "stdout",
     "output_type": "stream",
     "text": [
      "Z-Score for NON-SMOKERS:  19\n"
     ]
    }
   ],
   "source": [
    "#Checking the change of outliner removal.\n",
    "zscores_non_smoker = stats.zscore(non_smoker_charges)\n",
    "outliers_non_smoker = abs(zscores_non_smoker)>3\n",
    "print( f\"Z-Score for NON-SMOKERS:  {np.sum(outliers_non_smoker)}\" )"
   ]
  },
  {
   "attachments": {
    "image.png": {
     "image/png": "[encoded data removed]"
    }
   },
   "cell_type": "markdown",
   "id": "71f3c33e",
   "metadata": {},
   "source": [
    "### Checking for Normality - (D’Agostino and Pearson’s Normality Test)\n",
    "* p < 0.05\n",
    "    * A p-value less than 0.05 means our distribution is significantly different than a normal distribution.  A p-value less than .05 tells us we can reject the null hypothesis.\n",
    "\n",
    "* p > 0.05\n",
    "    * A p-value greater than 0.05 would say that there is no statistical difference between our distribution and a normal distribution which means the tested distribution should be considered normal.\n",
    "\n",
    "---\n",
    "#### ***NOTE:  Because the data is not normally distributed, but we have a large enough group size (n) where our group size is (n=1336) the below normality check is did not need to be completed and can be ignored***\n",
    "\n",
    "![image.png](attachment:image.png)"
   ]
  },
  {
   "cell_type": "code",
   "execution_count": 68,
   "id": "064c2d56",
   "metadata": {},
   "outputs": [
    {
     "data": {
      "text/plain": [
       "NormaltestResult(statistic=61.03941356533845, pvalue=5.5649306300356436e-14)"
      ]
     },
     "execution_count": 68,
     "metadata": {},
     "output_type": "execute_result"
    }
   ],
   "source": [
    "#testing the SMOKER group for Normality\n",
    "SMOKER_normality = stats.normaltest(smoker_charges)\n",
    "SMOKER_normality"
   ]
  },
  {
   "cell_type": "code",
   "execution_count": 69,
   "id": "8e682855",
   "metadata": {
    "scrolled": true
   },
   "outputs": [
    {
     "data": {
      "text/plain": [
       "NormaltestResult(statistic=163.803670477892, pvalue=2.6945416315543585e-36)"
      ]
     },
     "execution_count": 69,
     "metadata": {},
     "output_type": "execute_result"
    }
   ],
   "source": [
    "#testing the NON-SMOKER group for Normality\n",
    "NON_SMOKER_normality = stats.normaltest(non_smoker_charges)\n",
    "NON_SMOKER_normality"
   ]
  },
  {
   "cell_type": "markdown",
   "id": "aebc8dad",
   "metadata": {},
   "source": [
    "The p-values for both smoker and non_smoker are both less than 0.05.  The tested distribution is considered different from the normal distribution."
   ]
  },
  {
   "cell_type": "markdown",
   "id": "c1b373d6",
   "metadata": {},
   "source": [
    "### Test Assumption of Equal Variance"
   ]
  },
  {
   "cell_type": "code",
   "execution_count": 70,
   "id": "d37a7e24",
   "metadata": {},
   "outputs": [],
   "source": [
    "from scipy.stats import ttest_ind"
   ]
  },
  {
   "cell_type": "code",
   "execution_count": 71,
   "id": "93da3111",
   "metadata": {},
   "outputs": [
    {
     "data": {
      "text/plain": [
       "Ttest_indResult(statistic=51.207804417371705, pvalue=3.68768124e-315)"
      ]
     },
     "execution_count": 71,
     "metadata": {},
     "output_type": "execute_result"
    }
   ],
   "source": [
    "## Final t-test, after confirming we meet the assumptions\n",
    "test_result = stats.ttest_ind(smoker_charges,non_smoker_charges)\n",
    "test_result"
   ]
  },
  {
   "cell_type": "code",
   "execution_count": 72,
   "id": "f1222caa",
   "metadata": {
    "scrolled": true
   },
   "outputs": [
    {
     "name": "stdout",
     "output_type": "stream",
     "text": [
      "p-value=0.0000000000\n",
      "Significant: True\n"
     ]
    }
   ],
   "source": [
    "## is our result significant\n",
    "print(f\"p-value={test_result.pvalue:.10f}\")\n",
    "print(f\"Significant: {test_result.pvalue <.05}\")"
   ]
  },
  {
   "cell_type": "markdown",
   "id": "a7072138",
   "metadata": {},
   "source": [
    "Based on our t-test, we have a significant result.\n",
    "\n",
    "A significant result (p < 0.05) means we reject the null hypothesis and support the alternative hypothesis.  In this case, this means that there IS a difference between insurance charges between those who smoke and those who do not smoke."
   ]
  },
  {
   "cell_type": "markdown",
   "id": "03deea9d",
   "metadata": {},
   "source": [
    "# Q2. Are men more likely to smoke than women?\n",
    "\n",
    "1. Are Men more likely to smoke than women?\n",
    "2. Metric Measurement:  'smoker'\n",
    "3. I expect that men are more likely to smoke than women.\n",
    "\n",
    "***Null Hypothesis:***  There is no difference between the number of men who smoke and the number of women who smoke.\n",
    "\n",
    "***Alternate Hypothesis:***  The number of men who smoke is greater than the number of women who smoke."
   ]
  },
  {
   "cell_type": "code",
   "execution_count": 73,
   "id": "4492b84d",
   "metadata": {
    "scrolled": true
   },
   "outputs": [
    {
     "data": {
      "text/html": [
       "<div>\n",
       "<style scoped>\n",
       "    .dataframe tbody tr th:only-of-type {\n",
       "        vertical-align: middle;\n",
       "    }\n",
       "\n",
       "    .dataframe tbody tr th {\n",
       "        vertical-align: top;\n",
       "    }\n",
       "\n",
       "    .dataframe thead th {\n",
       "        text-align: right;\n",
       "    }\n",
       "</style>\n",
       "<table border=\"1\" class=\"dataframe\">\n",
       "  <thead>\n",
       "    <tr style=\"text-align: right;\">\n",
       "      <th></th>\n",
       "      <th>age</th>\n",
       "      <th>sex</th>\n",
       "      <th>bmi</th>\n",
       "      <th>children</th>\n",
       "      <th>smoker</th>\n",
       "      <th>region</th>\n",
       "      <th>charges</th>\n",
       "    </tr>\n",
       "  </thead>\n",
       "  <tbody>\n",
       "    <tr>\n",
       "      <th>0</th>\n",
       "      <td>19</td>\n",
       "      <td>female</td>\n",
       "      <td>27.90</td>\n",
       "      <td>0</td>\n",
       "      <td>yes</td>\n",
       "      <td>southwest</td>\n",
       "      <td>16884.9240</td>\n",
       "    </tr>\n",
       "    <tr>\n",
       "      <th>1</th>\n",
       "      <td>18</td>\n",
       "      <td>male</td>\n",
       "      <td>33.77</td>\n",
       "      <td>1</td>\n",
       "      <td>no</td>\n",
       "      <td>southeast</td>\n",
       "      <td>1725.5523</td>\n",
       "    </tr>\n",
       "  </tbody>\n",
       "</table>\n",
       "</div>"
      ],
      "text/plain": [
       "   age     sex    bmi  children smoker     region     charges\n",
       "0   19  female  27.90         0    yes  southwest  16884.9240\n",
       "1   18    male  33.77         1     no  southeast   1725.5523"
      ]
     },
     "execution_count": 73,
     "metadata": {},
     "output_type": "execute_result"
    }
   ],
   "source": [
    "df.head(2)"
   ]
  },
  {
   "cell_type": "markdown",
   "id": "7fc92180",
   "metadata": {},
   "source": [
    "## This test is based on the Categorical data column `smoker`."
   ]
  },
  {
   "cell_type": "markdown",
   "id": "a1a9dcca",
   "metadata": {},
   "source": [
    "## Assumptions Testing\n",
    "1. Must meet the following requirements:\n",
    "    1. There is no relationship between the distribution of the target category and the categorical features.\n",
    "    2. There are two categorical variables (ordinal or nominal).\n",
    "    3. The outcomes are independent."
   ]
  },
  {
   "cell_type": "code",
   "execution_count": 74,
   "id": "e681556e",
   "metadata": {},
   "outputs": [],
   "source": [
    "#changing 'smoker' column to the yes=1 and no=0.\n",
    "df['smoker'] = df['smoker'].replace(to_replace=({\"yes\":1,\"no\":0}))"
   ]
  },
  {
   "cell_type": "code",
   "execution_count": 75,
   "id": "0f7eebef",
   "metadata": {
    "scrolled": true
   },
   "outputs": [
    {
     "data": {
      "text/html": [
       "<div>\n",
       "<style scoped>\n",
       "    .dataframe tbody tr th:only-of-type {\n",
       "        vertical-align: middle;\n",
       "    }\n",
       "\n",
       "    .dataframe tbody tr th {\n",
       "        vertical-align: top;\n",
       "    }\n",
       "\n",
       "    .dataframe thead th {\n",
       "        text-align: right;\n",
       "    }\n",
       "</style>\n",
       "<table border=\"1\" class=\"dataframe\">\n",
       "  <thead>\n",
       "    <tr style=\"text-align: right;\">\n",
       "      <th></th>\n",
       "      <th>age</th>\n",
       "      <th>sex</th>\n",
       "      <th>bmi</th>\n",
       "      <th>children</th>\n",
       "      <th>smoker</th>\n",
       "      <th>region</th>\n",
       "      <th>charges</th>\n",
       "    </tr>\n",
       "  </thead>\n",
       "  <tbody>\n",
       "    <tr>\n",
       "      <th>0</th>\n",
       "      <td>19</td>\n",
       "      <td>female</td>\n",
       "      <td>27.900</td>\n",
       "      <td>0</td>\n",
       "      <td>1</td>\n",
       "      <td>southwest</td>\n",
       "      <td>16884.92400</td>\n",
       "    </tr>\n",
       "    <tr>\n",
       "      <th>1</th>\n",
       "      <td>18</td>\n",
       "      <td>male</td>\n",
       "      <td>33.770</td>\n",
       "      <td>1</td>\n",
       "      <td>0</td>\n",
       "      <td>southeast</td>\n",
       "      <td>1725.55230</td>\n",
       "    </tr>\n",
       "    <tr>\n",
       "      <th>2</th>\n",
       "      <td>28</td>\n",
       "      <td>male</td>\n",
       "      <td>33.000</td>\n",
       "      <td>3</td>\n",
       "      <td>0</td>\n",
       "      <td>southeast</td>\n",
       "      <td>4449.46200</td>\n",
       "    </tr>\n",
       "    <tr>\n",
       "      <th>3</th>\n",
       "      <td>33</td>\n",
       "      <td>male</td>\n",
       "      <td>22.705</td>\n",
       "      <td>0</td>\n",
       "      <td>0</td>\n",
       "      <td>northwest</td>\n",
       "      <td>21984.47061</td>\n",
       "    </tr>\n",
       "    <tr>\n",
       "      <th>4</th>\n",
       "      <td>32</td>\n",
       "      <td>male</td>\n",
       "      <td>28.880</td>\n",
       "      <td>0</td>\n",
       "      <td>0</td>\n",
       "      <td>northwest</td>\n",
       "      <td>3866.85520</td>\n",
       "    </tr>\n",
       "    <tr>\n",
       "      <th>...</th>\n",
       "      <td>...</td>\n",
       "      <td>...</td>\n",
       "      <td>...</td>\n",
       "      <td>...</td>\n",
       "      <td>...</td>\n",
       "      <td>...</td>\n",
       "      <td>...</td>\n",
       "    </tr>\n",
       "    <tr>\n",
       "      <th>1333</th>\n",
       "      <td>50</td>\n",
       "      <td>male</td>\n",
       "      <td>30.970</td>\n",
       "      <td>3</td>\n",
       "      <td>0</td>\n",
       "      <td>northwest</td>\n",
       "      <td>10600.54830</td>\n",
       "    </tr>\n",
       "    <tr>\n",
       "      <th>1334</th>\n",
       "      <td>18</td>\n",
       "      <td>female</td>\n",
       "      <td>31.920</td>\n",
       "      <td>0</td>\n",
       "      <td>0</td>\n",
       "      <td>northeast</td>\n",
       "      <td>2205.98080</td>\n",
       "    </tr>\n",
       "    <tr>\n",
       "      <th>1335</th>\n",
       "      <td>18</td>\n",
       "      <td>female</td>\n",
       "      <td>36.850</td>\n",
       "      <td>0</td>\n",
       "      <td>0</td>\n",
       "      <td>southeast</td>\n",
       "      <td>1629.83350</td>\n",
       "    </tr>\n",
       "    <tr>\n",
       "      <th>1336</th>\n",
       "      <td>21</td>\n",
       "      <td>female</td>\n",
       "      <td>25.800</td>\n",
       "      <td>0</td>\n",
       "      <td>0</td>\n",
       "      <td>southwest</td>\n",
       "      <td>2007.94500</td>\n",
       "    </tr>\n",
       "    <tr>\n",
       "      <th>1337</th>\n",
       "      <td>61</td>\n",
       "      <td>female</td>\n",
       "      <td>29.070</td>\n",
       "      <td>0</td>\n",
       "      <td>1</td>\n",
       "      <td>northwest</td>\n",
       "      <td>29141.36030</td>\n",
       "    </tr>\n",
       "  </tbody>\n",
       "</table>\n",
       "<p>1338 rows × 7 columns</p>\n",
       "</div>"
      ],
      "text/plain": [
       "      age     sex     bmi  children  smoker     region      charges\n",
       "0      19  female  27.900         0       1  southwest  16884.92400\n",
       "1      18    male  33.770         1       0  southeast   1725.55230\n",
       "2      28    male  33.000         3       0  southeast   4449.46200\n",
       "3      33    male  22.705         0       0  northwest  21984.47061\n",
       "4      32    male  28.880         0       0  northwest   3866.85520\n",
       "...   ...     ...     ...       ...     ...        ...          ...\n",
       "1333   50    male  30.970         3       0  northwest  10600.54830\n",
       "1334   18  female  31.920         0       0  northeast   2205.98080\n",
       "1335   18  female  36.850         0       0  southeast   1629.83350\n",
       "1336   21  female  25.800         0       0  southwest   2007.94500\n",
       "1337   61  female  29.070         0       1  northwest  29141.36030\n",
       "\n",
       "[1338 rows x 7 columns]"
      ]
     },
     "execution_count": 75,
     "metadata": {},
     "output_type": "execute_result"
    }
   ],
   "source": [
    "#saving to a new dataframe to preserve the original dataframe\n",
    "q2_df = df\n",
    "q2_df"
   ]
  },
  {
   "cell_type": "code",
   "execution_count": 77,
   "id": "219f4ff6",
   "metadata": {
    "scrolled": false
   },
   "outputs": [
    {
     "data": {
      "image/png": "[encoded data removed]",
      "text/plain": [
       "<Figure size 640x480 with 1 Axes>"
      ]
     },
     "metadata": {},
     "output_type": "display_data"
    }
   ],
   "source": [
    "#Visualizing the males and females who smoke.\n",
    "ax = sns.countplot(data=q2_df, x='sex',hue='smoker',)\n",
    "ax.set_title(\"Number of Males and Females that Smoke\");"
   ]
  },
  {
   "cell_type": "markdown",
   "id": "7950ca79",
   "metadata": {},
   "source": [
    "## Getting the Contingency Table with `pd.crosstab`"
   ]
  },
  {
   "cell_type": "code",
   "execution_count": 79,
   "id": "d59e2b31",
   "metadata": {
    "scrolled": true
   },
   "outputs": [
    {
     "data": {
      "text/html": [
       "<div>\n",
       "<style scoped>\n",
       "    .dataframe tbody tr th:only-of-type {\n",
       "        vertical-align: middle;\n",
       "    }\n",
       "\n",
       "    .dataframe tbody tr th {\n",
       "        vertical-align: top;\n",
       "    }\n",
       "\n",
       "    .dataframe thead th {\n",
       "        text-align: right;\n",
       "    }\n",
       "</style>\n",
       "<table border=\"1\" class=\"dataframe\">\n",
       "  <thead>\n",
       "    <tr style=\"text-align: right;\">\n",
       "      <th>smoker</th>\n",
       "      <th>0</th>\n",
       "      <th>1</th>\n",
       "    </tr>\n",
       "    <tr>\n",
       "      <th>sex</th>\n",
       "      <th></th>\n",
       "      <th></th>\n",
       "    </tr>\n",
       "  </thead>\n",
       "  <tbody>\n",
       "    <tr>\n",
       "      <th>female</th>\n",
       "      <td>547</td>\n",
       "      <td>115</td>\n",
       "    </tr>\n",
       "    <tr>\n",
       "      <th>male</th>\n",
       "      <td>517</td>\n",
       "      <td>159</td>\n",
       "    </tr>\n",
       "  </tbody>\n",
       "</table>\n",
       "</div>"
      ],
      "text/plain": [
       "smoker    0    1\n",
       "sex             \n",
       "female  547  115\n",
       "male    517  159"
      ]
     },
     "execution_count": 79,
     "metadata": {},
     "output_type": "execute_result"
    }
   ],
   "source": [
    "# calculate the contingency table with pd.cross-tab\n",
    "table = pd.crosstab(q2_df['sex'], q2_df['smoker'])\n",
    "table"
   ]
  },
  {
   "cell_type": "markdown",
   "id": "e8b6dc5e",
   "metadata": {},
   "source": [
    "## Running Chi-Squared Test.\n",
    "p < 0.05\n",
    "\n",
    "    * A p-value less than 0.05 means our distribution is significantly different than a normal distribution. A p-value less than .05 tells us we can reject the null hypothesis.\n",
    "\n",
    "p > 0.05\n",
    "\n",
    "    * A p-value greater than 0.05 would say that there is no statistical difference between our distribution and a normal distribution which means the tested distribution should be considered normal."
   ]
  },
  {
   "cell_type": "code",
   "execution_count": 80,
   "id": "f33bfb59",
   "metadata": {},
   "outputs": [],
   "source": [
    "# Run the Test and Save the Output\n",
    "chi2_result = stats.chi2_contingency(table)\n",
    "chi2, p, deg_free, expected_vals = chi2_result #this labels the results"
   ]
  },
  {
   "cell_type": "code",
   "execution_count": 82,
   "id": "c61b808e",
   "metadata": {},
   "outputs": [
    {
     "name": "stdout",
     "output_type": "stream",
     "text": [
      "P-value is:  0.006548143503580696\n"
     ]
    },
    {
     "data": {
      "text/plain": [
       "True"
      ]
     },
     "execution_count": 82,
     "metadata": {},
     "output_type": "execute_result"
    }
   ],
   "source": [
    "# What was our p-value?\n",
    "print(f\"P-value is:  {p}\")\n",
    "p<.05"
   ]
  },
  {
   "cell_type": "markdown",
   "id": "2de81478",
   "metadata": {},
   "source": [
    "P-value is less than 0.05 and we can reject the null hypothesis.  And support the Alternate Hypothesis that men smoke more than women."
   ]
  },
  {
   "cell_type": "markdown",
   "id": "2661fc8f",
   "metadata": {},
   "source": [
    "# Q3. Do different regions have different charges, on average?\n",
    "1. Are the average charges of all regions different.\n",
    "2. Metric Measurement:  'charges'\n",
    "3. I expect that all regions will have a significantly different average charge between all of them.\n",
    "\n",
    "***Null Hypothesis:***  All regions have the same average charges.\n",
    "\n",
    "***Alternate Hypothesis:***  All regions have significantly different charges.\n",
    "\n",
    "## The data type of this test is Numeric."
   ]
  },
  {
   "cell_type": "code",
   "execution_count": 83,
   "id": "2c359738",
   "metadata": {
    "scrolled": true
   },
   "outputs": [
    {
     "data": {
      "text/html": [
       "<div>\n",
       "<style scoped>\n",
       "    .dataframe tbody tr th:only-of-type {\n",
       "        vertical-align: middle;\n",
       "    }\n",
       "\n",
       "    .dataframe tbody tr th {\n",
       "        vertical-align: top;\n",
       "    }\n",
       "\n",
       "    .dataframe thead th {\n",
       "        text-align: right;\n",
       "    }\n",
       "</style>\n",
       "<table border=\"1\" class=\"dataframe\">\n",
       "  <thead>\n",
       "    <tr style=\"text-align: right;\">\n",
       "      <th></th>\n",
       "      <th>age</th>\n",
       "      <th>sex</th>\n",
       "      <th>bmi</th>\n",
       "      <th>children</th>\n",
       "      <th>smoker</th>\n",
       "      <th>region</th>\n",
       "      <th>charges</th>\n",
       "    </tr>\n",
       "  </thead>\n",
       "  <tbody>\n",
       "    <tr>\n",
       "      <th>0</th>\n",
       "      <td>19</td>\n",
       "      <td>female</td>\n",
       "      <td>27.900</td>\n",
       "      <td>0</td>\n",
       "      <td>1</td>\n",
       "      <td>southwest</td>\n",
       "      <td>16884.92400</td>\n",
       "    </tr>\n",
       "    <tr>\n",
       "      <th>1</th>\n",
       "      <td>18</td>\n",
       "      <td>male</td>\n",
       "      <td>33.770</td>\n",
       "      <td>1</td>\n",
       "      <td>0</td>\n",
       "      <td>southeast</td>\n",
       "      <td>1725.55230</td>\n",
       "    </tr>\n",
       "    <tr>\n",
       "      <th>2</th>\n",
       "      <td>28</td>\n",
       "      <td>male</td>\n",
       "      <td>33.000</td>\n",
       "      <td>3</td>\n",
       "      <td>0</td>\n",
       "      <td>southeast</td>\n",
       "      <td>4449.46200</td>\n",
       "    </tr>\n",
       "    <tr>\n",
       "      <th>3</th>\n",
       "      <td>33</td>\n",
       "      <td>male</td>\n",
       "      <td>22.705</td>\n",
       "      <td>0</td>\n",
       "      <td>0</td>\n",
       "      <td>northwest</td>\n",
       "      <td>21984.47061</td>\n",
       "    </tr>\n",
       "    <tr>\n",
       "      <th>4</th>\n",
       "      <td>32</td>\n",
       "      <td>male</td>\n",
       "      <td>28.880</td>\n",
       "      <td>0</td>\n",
       "      <td>0</td>\n",
       "      <td>northwest</td>\n",
       "      <td>3866.85520</td>\n",
       "    </tr>\n",
       "  </tbody>\n",
       "</table>\n",
       "</div>"
      ],
      "text/plain": [
       "   age     sex     bmi  children  smoker     region      charges\n",
       "0   19  female  27.900         0       1  southwest  16884.92400\n",
       "1   18    male  33.770         1       0  southeast   1725.55230\n",
       "2   28    male  33.000         3       0  southeast   4449.46200\n",
       "3   33    male  22.705         0       0  northwest  21984.47061\n",
       "4   32    male  28.880         0       0  northwest   3866.85520"
      ]
     },
     "execution_count": 83,
     "metadata": {},
     "output_type": "execute_result"
    }
   ],
   "source": [
    "df.head()"
   ]
  },
  {
   "cell_type": "code",
   "execution_count": 92,
   "id": "aa142ad1",
   "metadata": {
    "scrolled": true
   },
   "outputs": [
    {
     "data": {
      "image/png": "[encoded data removed]",
      "text/plain": [
       "<Figure size 640x480 with 1 Axes>"
      ]
     },
     "metadata": {},
     "output_type": "display_data"
    }
   ],
   "source": [
    "# visualisation of data.\n",
    "ax = sns.barplot(data=df, x='region',y='charges')\n",
    "ax.set_title(\"Regions and their charges.\");"
   ]
  },
  {
   "cell_type": "code",
   "execution_count": 93,
   "id": "e9fa57a0",
   "metadata": {},
   "outputs": [
    {
     "data": {
      "text/plain": [
       "dict_keys(['southwest', 'southeast', 'northwest', 'northeast'])"
      ]
     },
     "execution_count": 93,
     "metadata": {},
     "output_type": "execute_result"
    }
   ],
   "source": [
    "## Create groups dictionary.\n",
    "groups = {}\n",
    "## Loop through all unique categories\n",
    "for i in df['region'].unique():\n",
    "    ## Get series for group and rename\n",
    "    data = df.loc[df['region']==i,'charges'].copy()\n",
    "    \n",
    "    # save into the dictionary\n",
    "    groups[i] = data\n",
    "groups.keys()"
   ]
  },
  {
   "cell_type": "markdown",
   "id": "4d7a7f48",
   "metadata": {},
   "source": [
    "# Testing Assumptions"
   ]
  },
  {
   "cell_type": "markdown",
   "id": "57543bb7",
   "metadata": {},
   "source": [
    "## Normality"
   ]
  },
  {
   "cell_type": "code",
   "execution_count": 94,
   "id": "0216be5d",
   "metadata": {
    "scrolled": true
   },
   "outputs": [
    {
     "data": {
      "text/html": [
       "<div>\n",
       "<style scoped>\n",
       "    .dataframe tbody tr th:only-of-type {\n",
       "        vertical-align: middle;\n",
       "    }\n",
       "\n",
       "    .dataframe tbody tr th {\n",
       "        vertical-align: top;\n",
       "    }\n",
       "\n",
       "    .dataframe thead th {\n",
       "        text-align: right;\n",
       "    }\n",
       "</style>\n",
       "<table border=\"1\" class=\"dataframe\">\n",
       "  <thead>\n",
       "    <tr style=\"text-align: right;\">\n",
       "      <th></th>\n",
       "      <th>n</th>\n",
       "      <th>p</th>\n",
       "      <th>test stat</th>\n",
       "    </tr>\n",
       "  </thead>\n",
       "  <tbody>\n",
       "    <tr>\n",
       "      <th>southwest</th>\n",
       "      <td>325.0</td>\n",
       "      <td>6.125298e-23</td>\n",
       "      <td>102.294059</td>\n",
       "    </tr>\n",
       "    <tr>\n",
       "      <th>southeast</th>\n",
       "      <td>364.0</td>\n",
       "      <td>4.953297e-15</td>\n",
       "      <td>65.877446</td>\n",
       "    </tr>\n",
       "    <tr>\n",
       "      <th>northwest</th>\n",
       "      <td>325.0</td>\n",
       "      <td>5.184209e-24</td>\n",
       "      <td>107.232850</td>\n",
       "    </tr>\n",
       "    <tr>\n",
       "      <th>northeast</th>\n",
       "      <td>324.0</td>\n",
       "      <td>1.455431e-19</td>\n",
       "      <td>86.747629</td>\n",
       "    </tr>\n",
       "  </tbody>\n",
       "</table>\n",
       "</div>"
      ],
      "text/plain": [
       "               n             p   test stat\n",
       "southwest  325.0  6.125298e-23  102.294059\n",
       "southeast  364.0  4.953297e-15   65.877446\n",
       "northwest  325.0  5.184209e-24  107.232850\n",
       "northeast  324.0  1.455431e-19   86.747629"
      ]
     },
     "execution_count": 94,
     "metadata": {},
     "output_type": "execute_result"
    }
   ],
   "source": [
    "## Running normal test on each group and confirming there are >20 in each group\n",
    "norm_results = {}\n",
    "for i, data in groups.items():\n",
    "    stat, p = stats.normaltest(data)\n",
    "    ## save the p val, test statistic, and the size of the group\n",
    "    norm_results[i] = {'n': len(data),\n",
    "                             'p':p,\n",
    "                             'test stat':stat,}\n",
    "## convert to a dataframe\n",
    "norm_results_df = pd.DataFrame(norm_results).T\n",
    "norm_results_df"
   ]
  },
  {
   "cell_type": "code",
   "execution_count": 95,
   "id": "ad3fdaa4",
   "metadata": {
    "scrolled": true
   },
   "outputs": [
    {
     "data": {
      "text/html": [
       "<div>\n",
       "<style scoped>\n",
       "    .dataframe tbody tr th:only-of-type {\n",
       "        vertical-align: middle;\n",
       "    }\n",
       "\n",
       "    .dataframe tbody tr th {\n",
       "        vertical-align: top;\n",
       "    }\n",
       "\n",
       "    .dataframe thead th {\n",
       "        text-align: right;\n",
       "    }\n",
       "</style>\n",
       "<table border=\"1\" class=\"dataframe\">\n",
       "  <thead>\n",
       "    <tr style=\"text-align: right;\">\n",
       "      <th></th>\n",
       "      <th>n</th>\n",
       "      <th>p</th>\n",
       "      <th>test stat</th>\n",
       "      <th>significant diff</th>\n",
       "    </tr>\n",
       "  </thead>\n",
       "  <tbody>\n",
       "    <tr>\n",
       "      <th>southwest</th>\n",
       "      <td>325.0</td>\n",
       "      <td>6.125298e-23</td>\n",
       "      <td>102.294059</td>\n",
       "      <td>True</td>\n",
       "    </tr>\n",
       "    <tr>\n",
       "      <th>southeast</th>\n",
       "      <td>364.0</td>\n",
       "      <td>4.953297e-15</td>\n",
       "      <td>65.877446</td>\n",
       "      <td>True</td>\n",
       "    </tr>\n",
       "    <tr>\n",
       "      <th>northwest</th>\n",
       "      <td>325.0</td>\n",
       "      <td>5.184209e-24</td>\n",
       "      <td>107.232850</td>\n",
       "      <td>True</td>\n",
       "    </tr>\n",
       "    <tr>\n",
       "      <th>northeast</th>\n",
       "      <td>324.0</td>\n",
       "      <td>1.455431e-19</td>\n",
       "      <td>86.747629</td>\n",
       "      <td>True</td>\n",
       "    </tr>\n",
       "  </tbody>\n",
       "</table>\n",
       "</div>"
      ],
      "text/plain": [
       "               n             p   test stat  significant diff\n",
       "southwest  325.0  6.125298e-23  102.294059              True\n",
       "southeast  364.0  4.953297e-15   65.877446              True\n",
       "northwest  325.0  5.184209e-24  107.232850              True\n",
       "northeast  324.0  1.455431e-19   86.747629              True"
      ]
     },
     "execution_count": 95,
     "metadata": {},
     "output_type": "execute_result"
    }
   ],
   "source": [
    "### checking significant differences with pandas \n",
    "norm_results_df['significant diff'] = norm_results_df['p'] < .05 \n",
    "norm_results_df"
   ]
  },
  {
   "cell_type": "markdown",
   "id": "c3928cd7",
   "metadata": {},
   "source": [
    "p < 0.05\n",
    "\n",
    "* A p-value less than 0.05 means our distribution is significantly different than a normal distribution. A p-value less than .05 tells us we can reject the null hypothesis.\n",
    "\n",
    "p > 0.05\n",
    "\n",
    "* A p-value greater than 0.05 would say that there is no statistical difference between our distribution and a normal distribution which means the tested distribution should be considered normal.\n",
    "\n",
    "All regions have a p-value greater than 0.05.  This supports the Alternative Hypothesis."
   ]
  },
  {
   "cell_type": "markdown",
   "id": "67d9c020",
   "metadata": {},
   "source": [
    "## Testing Assumption of Equal Variance"
   ]
  },
  {
   "cell_type": "code",
   "execution_count": 97,
   "id": "3caad163",
   "metadata": {},
   "outputs": [
    {
     "data": {
      "text/plain": [
       "LeveneResult(statistic=5.559966758410606, pvalue=0.0008610590250786703)"
      ]
     },
     "execution_count": 97,
     "metadata": {},
     "output_type": "execute_result"
    }
   ],
   "source": [
    "#unpacking all values in the group with the * operator \n",
    "\n",
    "stats.levene(*groups.values())"
   ]
  },
  {
   "cell_type": "markdown",
   "id": "d577f49d",
   "metadata": {},
   "source": [
    "P-value is less than 0.05.  We DO NO have equal variance.  Rejecting the null hypothesis"
   ]
  },
  {
   "cell_type": "markdown",
   "id": "2986b257",
   "metadata": {},
   "source": [
    "## Testing for Outliers"
   ]
  },
  {
   "cell_type": "code",
   "execution_count": null,
   "id": "8cff7611",
   "metadata": {},
   "outputs": [],
   "source": [
    "zscores_f = stats.zscore(female_height)\n",
    "outliers_f = abs(zscores_f)>3\n",
    "np.sum(outliers_f)"
   ]
  }
 ],
 "metadata": {
  "kernelspec": {
   "display_name": "Python (dojo-env)",
   "language": "python",
   "name": "dojo-env"
  },
  "language_info": {
   "codemirror_mode": {
    "name": "ipython",
    "version": 3
   },
   "file_extension": ".py",
   "mimetype": "text/x-python",
   "name": "python",
   "nbconvert_exporter": "python",
   "pygments_lexer": "ipython3",
   "version": "3.9.15"
  },
  "toc": {
   "base_numbering": 1,
   "nav_menu": {},
   "number_sections": false,
   "sideBar": true,
   "skip_h1_title": false,
   "title_cell": "Table of Contents",
   "title_sidebar": "Contents",
   "toc_cell": false,
   "toc_position": {},
   "toc_section_display": true,
   "toc_window_display": false
  }
 },
 "nbformat": 4,
 "nbformat_minor": 5
}
