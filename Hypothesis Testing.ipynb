{
 "cells": [
  {
   "cell_type": "markdown",
   "id": "5da6c2ed",
   "metadata": {},
   "source": [
    "For this assignment, we will be working with the [US Health Insurance Dataset]('https://docs.google.com/spreadsheets/d/e/2PACX-1vQBN8DPW2rdiRrY34eEM53HAzakNGSRrw4ogI-j8HyCUrbqTB_z4CeIn2IvjLF-w_6sOe5pIlypJGAA/pub?output=csv') from Kaggle.\n",
    "\n",
    "We have been asked to use our hypothesis testing skills to answer the following questions:\n",
    "\n",
    "- Q1. Do smokers have higher insurance charges than non-smokers?\n",
    "- Q2. Are men more likely to smoke than women?\n",
    "- Q3. Do different regions have different charges, on average?\n",
    "---\n",
    "For each question, make sure to:\n",
    "\n",
    "1. State your Null Hypothesis and Alternative Hypothesis\n",
    "2. Select the correct test according to the data type and number of samples\n",
    "3. Test the assumptions of your selected test.\n",
    "4. Execute the selected test, or the alternative test (if you do not meet the assumptions)\n",
    "5. Interpret your p-value and reject or fail to reject your null hypothesis \n",
    "6. Show a supporting visualization that helps display the result"
   ]
  },
  {
   "cell_type": "code",
   "execution_count": 1,
   "id": "613133d8",
   "metadata": {},
   "outputs": [],
   "source": [
    "import pandas as pd\n",
    "import numpy as np\n",
    "import matplotlib.pyplot as plt\n",
    "import seaborn as sns\n",
    "import scipy.stats as stats"
   ]
  },
  {
   "cell_type": "code",
   "execution_count": 2,
   "id": "49919095",
   "metadata": {
    "scrolled": false
   },
   "outputs": [
    {
     "data": {
      "text/html": [
       "<div>\n",
       "<style scoped>\n",
       "    .dataframe tbody tr th:only-of-type {\n",
       "        vertical-align: middle;\n",
       "    }\n",
       "\n",
       "    .dataframe tbody tr th {\n",
       "        vertical-align: top;\n",
       "    }\n",
       "\n",
       "    .dataframe thead th {\n",
       "        text-align: right;\n",
       "    }\n",
       "</style>\n",
       "<table border=\"1\" class=\"dataframe\">\n",
       "  <thead>\n",
       "    <tr style=\"text-align: right;\">\n",
       "      <th></th>\n",
       "      <th>age</th>\n",
       "      <th>sex</th>\n",
       "      <th>bmi</th>\n",
       "      <th>children</th>\n",
       "      <th>smoker</th>\n",
       "      <th>region</th>\n",
       "      <th>charges</th>\n",
       "    </tr>\n",
       "  </thead>\n",
       "  <tbody>\n",
       "    <tr>\n",
       "      <th>0</th>\n",
       "      <td>19</td>\n",
       "      <td>female</td>\n",
       "      <td>27.900</td>\n",
       "      <td>0</td>\n",
       "      <td>yes</td>\n",
       "      <td>southwest</td>\n",
       "      <td>16884.92400</td>\n",
       "    </tr>\n",
       "    <tr>\n",
       "      <th>1</th>\n",
       "      <td>18</td>\n",
       "      <td>male</td>\n",
       "      <td>33.770</td>\n",
       "      <td>1</td>\n",
       "      <td>no</td>\n",
       "      <td>southeast</td>\n",
       "      <td>1725.55230</td>\n",
       "    </tr>\n",
       "    <tr>\n",
       "      <th>2</th>\n",
       "      <td>28</td>\n",
       "      <td>male</td>\n",
       "      <td>33.000</td>\n",
       "      <td>3</td>\n",
       "      <td>no</td>\n",
       "      <td>southeast</td>\n",
       "      <td>4449.46200</td>\n",
       "    </tr>\n",
       "    <tr>\n",
       "      <th>3</th>\n",
       "      <td>33</td>\n",
       "      <td>male</td>\n",
       "      <td>22.705</td>\n",
       "      <td>0</td>\n",
       "      <td>no</td>\n",
       "      <td>northwest</td>\n",
       "      <td>21984.47061</td>\n",
       "    </tr>\n",
       "    <tr>\n",
       "      <th>4</th>\n",
       "      <td>32</td>\n",
       "      <td>male</td>\n",
       "      <td>28.880</td>\n",
       "      <td>0</td>\n",
       "      <td>no</td>\n",
       "      <td>northwest</td>\n",
       "      <td>3866.85520</td>\n",
       "    </tr>\n",
       "  </tbody>\n",
       "</table>\n",
       "</div>"
      ],
      "text/plain": [
       "   age     sex     bmi  children smoker     region      charges\n",
       "0   19  female  27.900         0    yes  southwest  16884.92400\n",
       "1   18    male  33.770         1     no  southeast   1725.55230\n",
       "2   28    male  33.000         3     no  southeast   4449.46200\n",
       "3   33    male  22.705         0     no  northwest  21984.47061\n",
       "4   32    male  28.880         0     no  northwest   3866.85520"
      ]
     },
     "execution_count": 2,
     "metadata": {},
     "output_type": "execute_result"
    }
   ],
   "source": [
    "#import csv\n",
    "df = pd.read_csv('/Users/Rashad/Documents/GitHub/Hypothesis Testing with Insurance Data_CORE/Hypothesis-Testing-with-Insurance-Data_CORE/Data/insurance - insurance.csv')\n",
    "df.head()"
   ]
  },
  {
   "cell_type": "code",
   "execution_count": 3,
   "id": "025c7d37",
   "metadata": {},
   "outputs": [
    {
     "name": "stdout",
     "output_type": "stream",
     "text": [
      "<class 'pandas.core.frame.DataFrame'>\n",
      "RangeIndex: 1338 entries, 0 to 1337\n",
      "Data columns (total 7 columns):\n",
      " #   Column    Non-Null Count  Dtype  \n",
      "---  ------    --------------  -----  \n",
      " 0   age       1338 non-null   int64  \n",
      " 1   sex       1338 non-null   object \n",
      " 2   bmi       1338 non-null   float64\n",
      " 3   children  1338 non-null   int64  \n",
      " 4   smoker    1338 non-null   object \n",
      " 5   region    1338 non-null   object \n",
      " 6   charges   1338 non-null   float64\n",
      "dtypes: float64(2), int64(2), object(3)\n",
      "memory usage: 73.3+ KB\n"
     ]
    }
   ],
   "source": [
    "df.info()"
   ]
  },
  {
   "cell_type": "markdown",
   "id": "f9f8e495",
   "metadata": {},
   "source": [
    "# Q1. Do smokers have higher insurance charges than non-smokers?"
   ]
  },
  {
   "attachments": {
    "image.png": {
     "image/png": "[encoded data removed]"
    }
   },
   "cell_type": "markdown",
   "id": "5a639493",
   "metadata": {},
   "source": [
    "* Metric measurement:  'charges'\n",
    "* This is a NUMERIC test.\n",
    "* There are two sample groups (smokers and non-smokers)\n",
    "\n",
    "![image.png](attachment:image.png)\n",
    "\n",
    "***Null Hypothesis:***  The average charge of smokers is not significantly higher than the average charge of non-smokers.\n",
    "\n",
    "***Alternate Hypothesis:***  The average charge of smokers is higher than the average charge of non-smokers."
   ]
  },
  {
   "cell_type": "code",
   "execution_count": 4,
   "id": "8cfb803a",
   "metadata": {
    "scrolled": true
   },
   "outputs": [
    {
     "data": {
      "text/html": [
       "<div>\n",
       "<style scoped>\n",
       "    .dataframe tbody tr th:only-of-type {\n",
       "        vertical-align: middle;\n",
       "    }\n",
       "\n",
       "    .dataframe tbody tr th {\n",
       "        vertical-align: top;\n",
       "    }\n",
       "\n",
       "    .dataframe thead th {\n",
       "        text-align: right;\n",
       "    }\n",
       "</style>\n",
       "<table border=\"1\" class=\"dataframe\">\n",
       "  <thead>\n",
       "    <tr style=\"text-align: right;\">\n",
       "      <th></th>\n",
       "      <th>age</th>\n",
       "      <th>sex</th>\n",
       "      <th>bmi</th>\n",
       "      <th>children</th>\n",
       "      <th>smoker</th>\n",
       "      <th>region</th>\n",
       "      <th>charges</th>\n",
       "    </tr>\n",
       "  </thead>\n",
       "  <tbody>\n",
       "    <tr>\n",
       "      <th>0</th>\n",
       "      <td>19</td>\n",
       "      <td>female</td>\n",
       "      <td>27.90</td>\n",
       "      <td>0</td>\n",
       "      <td>yes</td>\n",
       "      <td>southwest</td>\n",
       "      <td>16884.9240</td>\n",
       "    </tr>\n",
       "    <tr>\n",
       "      <th>1</th>\n",
       "      <td>18</td>\n",
       "      <td>male</td>\n",
       "      <td>33.77</td>\n",
       "      <td>1</td>\n",
       "      <td>no</td>\n",
       "      <td>southeast</td>\n",
       "      <td>1725.5523</td>\n",
       "    </tr>\n",
       "  </tbody>\n",
       "</table>\n",
       "</div>"
      ],
      "text/plain": [
       "   age     sex    bmi  children smoker     region     charges\n",
       "0   19  female  27.90         0    yes  southwest  16884.9240\n",
       "1   18    male  33.77         1     no  southeast   1725.5523"
      ]
     },
     "execution_count": 4,
     "metadata": {},
     "output_type": "execute_result"
    }
   ],
   "source": [
    "df.head(2)"
   ]
  },
  {
   "cell_type": "markdown",
   "id": "fa83287d",
   "metadata": {},
   "source": [
    "## 2 Sample T-Test\n",
    "Does data meet the assumptions of this test before proceeding?\n",
    "* No significant outliers\n",
    "* Normality\n",
    "* Equal Variance"
   ]
  },
  {
   "cell_type": "markdown",
   "id": "8e2d33ea",
   "metadata": {},
   "source": [
    "### Filtering data and getting group averages."
   ]
  },
  {
   "cell_type": "code",
   "execution_count": 5,
   "id": "866d2d21",
   "metadata": {
    "scrolled": true
   },
   "outputs": [
    {
     "name": "stdout",
     "output_type": "stream",
     "text": [
      "The total Number of observations across all groups:  N=1338\n",
      "For SMOKERS (n=274):  Mean\\Average=32050.23\n",
      "For NON-SMOKERS (n=1064):  Mean\\Average=8434.27\n"
     ]
    }
   ],
   "source": [
    "#Filtering data.\n",
    "\n",
    "# If I wanted to take a random sample of my dataframe, I would use the\n",
    "# below (commented out) line of code.\n",
    "#    sample = df.sample(n=1338,random_state=23)\n",
    "\n",
    "#Series of smoker charges\n",
    "smoker_charges = df.loc[ df['smoker']=='yes',\"charges\"]\n",
    "#Series of non-smoker charges\n",
    "non_smoker_charges = df.loc[ df['smoker']=='no',\"charges\"]\n",
    "\n",
    "## Getting means\\averages for smoker and non-smoker charges\n",
    "print(f\"The total Number of observations across all groups:  N={len(smoker_charges)+len(non_smoker_charges)}\")\n",
    "print(f\"For SMOKERS (n={len(smoker_charges)}):  Mean\\Average={np.mean(smoker_charges):.2f}\")\n",
    "print(f\"For NON-SMOKERS (n={len(non_smoker_charges)}):  Mean\\Average={np.mean(non_smoker_charges):.2f}\")"
   ]
  },
  {
   "cell_type": "code",
   "execution_count": 6,
   "id": "8ef2c49a",
   "metadata": {
    "scrolled": false
   },
   "outputs": [
    {
     "data": {
      "text/html": [
       "<div>\n",
       "<style scoped>\n",
       "    .dataframe tbody tr th:only-of-type {\n",
       "        vertical-align: middle;\n",
       "    }\n",
       "\n",
       "    .dataframe tbody tr th {\n",
       "        vertical-align: top;\n",
       "    }\n",
       "\n",
       "    .dataframe thead th {\n",
       "        text-align: right;\n",
       "    }\n",
       "</style>\n",
       "<table border=\"1\" class=\"dataframe\">\n",
       "  <thead>\n",
       "    <tr style=\"text-align: right;\">\n",
       "      <th></th>\n",
       "      <th>age</th>\n",
       "      <th>sex</th>\n",
       "      <th>bmi</th>\n",
       "      <th>children</th>\n",
       "      <th>smoker</th>\n",
       "      <th>region</th>\n",
       "      <th>charges</th>\n",
       "    </tr>\n",
       "  </thead>\n",
       "  <tbody>\n",
       "    <tr>\n",
       "      <th>0</th>\n",
       "      <td>19</td>\n",
       "      <td>female</td>\n",
       "      <td>27.90</td>\n",
       "      <td>0</td>\n",
       "      <td>yes</td>\n",
       "      <td>southwest</td>\n",
       "      <td>16884.9240</td>\n",
       "    </tr>\n",
       "    <tr>\n",
       "      <th>1</th>\n",
       "      <td>18</td>\n",
       "      <td>male</td>\n",
       "      <td>33.77</td>\n",
       "      <td>1</td>\n",
       "      <td>no</td>\n",
       "      <td>southeast</td>\n",
       "      <td>1725.5523</td>\n",
       "    </tr>\n",
       "  </tbody>\n",
       "</table>\n",
       "</div>"
      ],
      "text/plain": [
       "   age     sex    bmi  children smoker     region     charges\n",
       "0   19  female  27.90         0    yes  southwest  16884.9240\n",
       "1   18    male  33.77         1     no  southeast   1725.5523"
      ]
     },
     "execution_count": 6,
     "metadata": {},
     "output_type": "execute_result"
    }
   ],
   "source": [
    "#quick view of dataframe\n",
    "df.head(2)"
   ]
  },
  {
   "cell_type": "markdown",
   "id": "57b3dd16",
   "metadata": {},
   "source": [
    "### Visualization of smoker charges compared to non-smoker charges."
   ]
  },
  {
   "cell_type": "code",
   "execution_count": 7,
   "id": "8354f8fe",
   "metadata": {},
   "outputs": [
    {
     "data": {
      "image/png": "[encoded data removed]",
      "text/plain": [
       "<Figure size 1000x500 with 2 Axes>"
      ]
     },
     "metadata": {},
     "output_type": "display_data"
    }
   ],
   "source": [
    "smoker_palette={'yes':'red', \"no\":\"green\"}\n",
    "## Visualizing Sample means\n",
    "fig, (ax,ax_bar) = plt.subplots(figsize= (10,5), ncols=2, \n",
    "                                constrained_layout=True,\n",
    "                                gridspec_kw={'width_ratios':[0.8,0.2]})\n",
    "\n",
    "\n",
    "# Histogram\n",
    "ax = sns.histplot(data=df, x='charges',fill=True,hue='smoker',kde=True,\n",
    "                  stat='density',common_norm=False,ax=ax,\n",
    "                  palette=smoker_palette)\n",
    "\n",
    "ax.axvline(np.mean(smoker_charges), ls='--',lw=3, \n",
    "           label=f\"SMOKER (Mean={np.mean(smoker_charges):.2f})\",color=smoker_palette['yes'])\n",
    "\n",
    "ax.axvline(np.mean(non_smoker_charges), ls='--', lw=3, \n",
    "           label=f\"NON-SMOKER (Mean={np.mean(non_smoker_charges):.2f})\",color=smoker_palette['no'])\n",
    "\n",
    "ax.legend(prop={\"size\":14}, loc='upper right')#bbox_to_anchor=[1,1])\n",
    "## Barplot\n",
    "sns.barplot(data=df, x='smoker',y='charges',ax = ax_bar,palette=smoker_palette)\n",
    "fig.suptitle('Comparison of Charges by Smoker Status',fontsize='xx-large');"
   ]
  },
  {
   "cell_type": "markdown",
   "id": "19768663",
   "metadata": {},
   "source": [
    "### Testing Assumptions\n",
    "1. No significant OUTLIERS\n",
    "2. NORMALITY\n",
    "3. EQUAL VARIANCE"
   ]
  },
  {
   "cell_type": "markdown",
   "id": "7ec1d243",
   "metadata": {},
   "source": [
    "#### 1. Testing for Outliers - (using Z-scores.)\n",
    "NOTE:  Typically z-scores greater than 3 are considered outliers. "
   ]
  },
  {
   "cell_type": "code",
   "execution_count": 8,
   "id": "89104c41",
   "metadata": {},
   "outputs": [
    {
     "name": "stdout",
     "output_type": "stream",
     "text": [
      "Z-Score for SMOKERS:  0\n"
     ]
    }
   ],
   "source": [
    "#Smoker Z-Score\n",
    "zscores_smoker = stats.zscore(smoker_charges)\n",
    "outliers_smoker = abs(zscores_smoker)>3\n",
    "print( f\"Z-Score for SMOKERS:  {np.sum(outliers_smoker)}\" )"
   ]
  },
  {
   "cell_type": "markdown",
   "id": "259d9af5",
   "metadata": {},
   "source": [
    "If Z-score is greater than 3 (z>3), then outliers exist.\n",
    "\n",
    "---\n",
    "\n",
    "Our z-score for SMOKERS is 0.  There are no outliers in this group."
   ]
  },
  {
   "cell_type": "code",
   "execution_count": 9,
   "id": "37e5fc13",
   "metadata": {},
   "outputs": [
    {
     "name": "stdout",
     "output_type": "stream",
     "text": [
      "Z-Score for NON-SMOKERS:  24\n"
     ]
    }
   ],
   "source": [
    "#Non-Smoker Z-Score\n",
    "zscores_non_smoker = stats.zscore(non_smoker_charges)\n",
    "outliers_non_smoker = abs(zscores_non_smoker)>3\n",
    "print( f\"Z-Score for NON-SMOKERS:  {np.sum(outliers_non_smoker)}\" )"
   ]
  },
  {
   "cell_type": "markdown",
   "id": "3ce74a45",
   "metadata": {},
   "source": [
    "If Z-score is greater than 3 (z>3), then outliers exist.\n",
    "\n",
    "---\n",
    "\n",
    "Our z-score for NON-SMOKERS is 24.  There are outliers in this group.\n",
    "* Removing outliers in the following cell."
   ]
  },
  {
   "cell_type": "code",
   "execution_count": 10,
   "id": "b3969f43",
   "metadata": {},
   "outputs": [],
   "source": [
    "#Removing outliers from non_smoker group.\n",
    "## ONLY REMOVE AN OUTLIER ONCE,\n",
    "## REGARDLESS OF INITIAL VALUE THAT INDICATED THAT REMOVAL WAS NEEDED.\n",
    "\n",
    "non_smoker_charges = non_smoker_charges[(np.abs(stats.zscore(non_smoker_charges)) < 3)]"
   ]
  },
  {
   "cell_type": "markdown",
   "id": "fe0cb8a7",
   "metadata": {},
   "source": [
    "#### 2. Testing for Normality - (using D’Agostino-Pearson’s Normality Test)\n",
    "If alpha = 0.05,\n",
    "\n",
    "* p < 0.05 (p < alpha)\n",
    "    * A p-value less than 0.05 means to reject the null hypothesis (and we accept\\support the alternative hypothesis).\n",
    "\n",
    "* p > 0.05 (p > alpha)\n",
    "    * A p-value greater than 0.05 means to accept the null hypothesis (we fail to reject the null hypothesis)."
   ]
  },
  {
   "cell_type": "code",
   "execution_count": 11,
   "id": "064c2d56",
   "metadata": {},
   "outputs": [
    {
     "data": {
      "text/plain": [
       "NormaltestResult(statistic=61.03941356533816, pvalue=5.564930630036463e-14)"
      ]
     },
     "execution_count": 11,
     "metadata": {},
     "output_type": "execute_result"
    }
   ],
   "source": [
    "#testing the SMOKER group for Normality\n",
    "SMOKER_normality = stats.normaltest(smoker_charges)\n",
    "SMOKER_normality"
   ]
  },
  {
   "cell_type": "code",
   "execution_count": 12,
   "id": "8e682855",
   "metadata": {
    "scrolled": true
   },
   "outputs": [
    {
     "data": {
      "text/plain": [
       "NormaltestResult(statistic=163.80367047789198, pvalue=2.6945416315543976e-36)"
      ]
     },
     "execution_count": 12,
     "metadata": {},
     "output_type": "execute_result"
    }
   ],
   "source": [
    "#testing the NON-SMOKER group for Normality\n",
    "NON_SMOKER_normality = stats.normaltest(non_smoker_charges)\n",
    "NON_SMOKER_normality"
   ]
  },
  {
   "cell_type": "markdown",
   "id": "aebc8dad",
   "metadata": {},
   "source": [
    "The p-values for both smoker and non_smoker are both less than 0.05.  This data is not normally distributed."
   ]
  },
  {
   "attachments": {
    "image.png": {
     "image/png": "[encoded data removed]"
    }
   },
   "cell_type": "markdown",
   "id": "71f3c33e",
   "metadata": {},
   "source": [
    "##### ***NOTE:  Because the data is not normally distributed, but we have a large enough sample\\groups sizes (n) (where our smallest group size is n=274), we can safely ignore the normality assumption and continue on to testing equal variance***\n",
    "\n",
    "![image.png](attachment:image.png)"
   ]
  },
  {
   "cell_type": "markdown",
   "id": "c1b373d6",
   "metadata": {},
   "source": [
    "#### Testing for Equal Variance - (using Levene's Test)\n",
    "* If P-value is greater than alpha (p > 0.05):  We **accept** the null null hypothesis that the samples come from populations with equal variances. Therefore, we accept that **our groups DO have equal variance.**\n",
    "\n",
    "* If P-value is less than alpha (p < 0.05): We **reject** the null hypothesis that the samples come from populations with equal variances. Therefore, we accept that **our groups DO NOT have equal variance.**"
   ]
  },
  {
   "cell_type": "code",
   "execution_count": 13,
   "id": "12cf6900",
   "metadata": {
    "scrolled": true
   },
   "outputs": [
    {
     "data": {
      "text/plain": [
       "LeveneResult(statistic=520.7468821724297, pvalue=2.4247238784347824e-97)"
      ]
     },
     "execution_count": 13,
     "metadata": {},
     "output_type": "execute_result"
    }
   ],
   "source": [
    "# Test for equal variance using Levene test.\n",
    "result = stats.levene(smoker_charges, non_smoker_charges)\n",
    "result"
   ]
  },
  {
   "cell_type": "markdown",
   "id": "01bfa6d9",
   "metadata": {},
   "source": [
    "P-value is less than 0.05 for the our Equal Variance test.  **Our groups DO NOT have equal variance.**"
   ]
  },
  {
   "cell_type": "markdown",
   "id": "8e80dcaa",
   "metadata": {},
   "source": [
    "### T-Test - (using Welch's T-test)\n",
    "* Using Welch's T-test because we failed the assumption of equal variance.\n",
    "\n",
    "If P-value is less than alpha (p < 0.05):\n",
    "* We reject the null hypothesis and accept\\support the alternative hypothesis.\n",
    "\n",
    "If P-value is greater than alpha (p > 0.05):\n",
    "* We accept the null hypothesis (i.e. fail to reject the null hypothesis)."
   ]
  },
  {
   "cell_type": "code",
   "execution_count": 14,
   "id": "d37a7e24",
   "metadata": {},
   "outputs": [],
   "source": [
    "from scipy.stats import ttest_ind"
   ]
  },
  {
   "cell_type": "code",
   "execution_count": 15,
   "id": "93da3111",
   "metadata": {},
   "outputs": [
    {
     "data": {
      "text/plain": [
       "Ttest_indResult(statistic=33.732305987092516, pvalue=2.575322662587431e-104)"
      ]
     },
     "execution_count": 15,
     "metadata": {},
     "output_type": "execute_result"
    }
   ],
   "source": [
    "## Final t-test, after completing assumptions testing.\n",
    "test_result = stats.ttest_ind(smoker_charges,non_smoker_charges, equal_var=False)\n",
    "test_result"
   ]
  },
  {
   "cell_type": "code",
   "execution_count": 16,
   "id": "f1222caa",
   "metadata": {
    "scrolled": true
   },
   "outputs": [
    {
     "name": "stdout",
     "output_type": "stream",
     "text": [
      "p-value=0.0000000000\n",
      "Significant: True\n"
     ]
    }
   ],
   "source": [
    "## is our test result significant\n",
    "print(f\"p-value={test_result.pvalue:.10f}\")\n",
    "print(f\"Significant: {test_result.pvalue <.05}\")"
   ]
  },
  {
   "cell_type": "markdown",
   "id": "a7072138",
   "metadata": {},
   "source": [
    "Based on our t-test, we have a significant result.  P-value is less than 0.05.\n",
    "\n",
    "**A significant result (p < 0.05) means we reject the null hypothesis and support the alternative hypothesis.**  In this case, this means that there IS a difference between insurance charges between those who smoke and those who do not smoke."
   ]
  },
  {
   "attachments": {
    "image.png": {
     "image/png": "[encoded data removed]"
    }
   },
   "cell_type": "markdown",
   "id": "03deea9d",
   "metadata": {},
   "source": [
    "# Q2. Are men more likely to smoke than women?\n",
    "\n",
    "1. Metric Measurement:  'smoker'\n",
    "2. This is a CATEGORICAL test.\n",
    "3. There are two sample groups (men and women)\n",
    "\n",
    "![image.png](attachment:image.png)\n",
    "\n",
    "***Null Hypothesis:***  The number average number of men who smoke is less than the average number of women who smoke.\n",
    "\n",
    "***Alternate Hypothesis:***  The number average number of men who smoke is greater than the average number of women who smoke."
   ]
  },
  {
   "cell_type": "code",
   "execution_count": 17,
   "id": "4492b84d",
   "metadata": {
    "scrolled": true
   },
   "outputs": [
    {
     "data": {
      "text/html": [
       "<div>\n",
       "<style scoped>\n",
       "    .dataframe tbody tr th:only-of-type {\n",
       "        vertical-align: middle;\n",
       "    }\n",
       "\n",
       "    .dataframe tbody tr th {\n",
       "        vertical-align: top;\n",
       "    }\n",
       "\n",
       "    .dataframe thead th {\n",
       "        text-align: right;\n",
       "    }\n",
       "</style>\n",
       "<table border=\"1\" class=\"dataframe\">\n",
       "  <thead>\n",
       "    <tr style=\"text-align: right;\">\n",
       "      <th></th>\n",
       "      <th>age</th>\n",
       "      <th>sex</th>\n",
       "      <th>bmi</th>\n",
       "      <th>children</th>\n",
       "      <th>smoker</th>\n",
       "      <th>region</th>\n",
       "      <th>charges</th>\n",
       "    </tr>\n",
       "  </thead>\n",
       "  <tbody>\n",
       "    <tr>\n",
       "      <th>0</th>\n",
       "      <td>19</td>\n",
       "      <td>female</td>\n",
       "      <td>27.90</td>\n",
       "      <td>0</td>\n",
       "      <td>yes</td>\n",
       "      <td>southwest</td>\n",
       "      <td>16884.9240</td>\n",
       "    </tr>\n",
       "    <tr>\n",
       "      <th>1</th>\n",
       "      <td>18</td>\n",
       "      <td>male</td>\n",
       "      <td>33.77</td>\n",
       "      <td>1</td>\n",
       "      <td>no</td>\n",
       "      <td>southeast</td>\n",
       "      <td>1725.5523</td>\n",
       "    </tr>\n",
       "  </tbody>\n",
       "</table>\n",
       "</div>"
      ],
      "text/plain": [
       "   age     sex    bmi  children smoker     region     charges\n",
       "0   19  female  27.90         0    yes  southwest  16884.9240\n",
       "1   18    male  33.77         1     no  southeast   1725.5523"
      ]
     },
     "execution_count": 17,
     "metadata": {},
     "output_type": "execute_result"
    }
   ],
   "source": [
    "df.head(2)"
   ]
  },
  {
   "cell_type": "markdown",
   "id": "a1a9dcca",
   "metadata": {},
   "source": [
    "## Chi-Square Test\n",
    "Does the data meet the assumptions of this test before proceeding?\n",
    "\n",
    "1. There are two categorical variables (ordinal or nominal)\n",
    "    * YES.  To categorical variables are nominal.\n",
    "2. The outcomes are independent.\n",
    "    * YES.  They have no dependency opon each other.  Gender is not dependent on the smoker variable."
   ]
  },
  {
   "cell_type": "markdown",
   "id": "0a1ad152",
   "metadata": {},
   "source": [
    "### Visualizing smokers among males and females."
   ]
  },
  {
   "cell_type": "code",
   "execution_count": 18,
   "id": "219f4ff6",
   "metadata": {
    "scrolled": false
   },
   "outputs": [
    {
     "data": {
      "image/png": "[encoded data removed]",
      "text/plain": [
       "<Figure size 640x480 with 1 Axes>"
      ]
     },
     "metadata": {},
     "output_type": "display_data"
    }
   ],
   "source": [
    "#Visualizing the males and females who smoke.\n",
    "ax = sns.countplot(data=df, x='sex',hue='smoker',)\n",
    "ax.set_title(\"Number of Males and Females that Smoke\");"
   ]
  },
  {
   "cell_type": "markdown",
   "id": "7950ca79",
   "metadata": {},
   "source": [
    "### Getting the required Contingency Table for the Chi-Squared Test with `pd.crosstab`"
   ]
  },
  {
   "cell_type": "code",
   "execution_count": 19,
   "id": "d59e2b31",
   "metadata": {
    "scrolled": true
   },
   "outputs": [
    {
     "data": {
      "text/html": [
       "<div>\n",
       "<style scoped>\n",
       "    .dataframe tbody tr th:only-of-type {\n",
       "        vertical-align: middle;\n",
       "    }\n",
       "\n",
       "    .dataframe tbody tr th {\n",
       "        vertical-align: top;\n",
       "    }\n",
       "\n",
       "    .dataframe thead th {\n",
       "        text-align: right;\n",
       "    }\n",
       "</style>\n",
       "<table border=\"1\" class=\"dataframe\">\n",
       "  <thead>\n",
       "    <tr style=\"text-align: right;\">\n",
       "      <th>smoker</th>\n",
       "      <th>no</th>\n",
       "      <th>yes</th>\n",
       "    </tr>\n",
       "    <tr>\n",
       "      <th>sex</th>\n",
       "      <th></th>\n",
       "      <th></th>\n",
       "    </tr>\n",
       "  </thead>\n",
       "  <tbody>\n",
       "    <tr>\n",
       "      <th>female</th>\n",
       "      <td>547</td>\n",
       "      <td>115</td>\n",
       "    </tr>\n",
       "    <tr>\n",
       "      <th>male</th>\n",
       "      <td>517</td>\n",
       "      <td>159</td>\n",
       "    </tr>\n",
       "  </tbody>\n",
       "</table>\n",
       "</div>"
      ],
      "text/plain": [
       "smoker   no  yes\n",
       "sex             \n",
       "female  547  115\n",
       "male    517  159"
      ]
     },
     "execution_count": 19,
     "metadata": {},
     "output_type": "execute_result"
    }
   ],
   "source": [
    "# calculate the contingency table with pd.cross-tab\n",
    "contingency_table = pd.crosstab(df['sex'], df['smoker'])\n",
    "contingency_table"
   ]
  },
  {
   "cell_type": "markdown",
   "id": "e8b6dc5e",
   "metadata": {},
   "source": [
    "## Running Chi-Squared Test.\n",
    "p < 0.05\n",
    "\n",
    "* A p-value less than 0.05 means our distribution is significantly different than a normal distribution. **A p-value less than 0.05 tells us we can reject the null hypothesis (accept\\support the alternate hypothesis).**\n",
    "\n",
    "p > 0.05\n",
    "\n",
    "* A p-value greater than 0.05 would say that there is no statistical difference between our distribution and a normal distribution which means the tested distribution should be considered normal.  **A p-value greater than alpha (0.05) means we fail to reject the null hypothesis (we accept the null hypothesis).**"
   ]
  },
  {
   "cell_type": "code",
   "execution_count": 20,
   "id": "f33bfb59",
   "metadata": {},
   "outputs": [],
   "source": [
    "# Running the Chi-Square test and saveing the output.\n",
    "chi2_result = stats.chi2_contingency(contingency_table)\n",
    "chi2, p, deg_free, expected_vals = chi2_result #this labels the results"
   ]
  },
  {
   "cell_type": "code",
   "execution_count": 21,
   "id": "c61b808e",
   "metadata": {},
   "outputs": [
    {
     "name": "stdout",
     "output_type": "stream",
     "text": [
      "P-value is:  0.006548143503580696\n"
     ]
    }
   ],
   "source": [
    "# What was our p-value?\n",
    "print(f\"P-value is:  {p}\")"
   ]
  },
  {
   "cell_type": "markdown",
   "id": "2de81478",
   "metadata": {},
   "source": [
    "P-value is less than 0.05 and we can reject the null hypothesis.  **The data supports the Alternate Hypothesis that men on average smoke more than women.**"
   ]
  },
  {
   "attachments": {
    "image.png": {
     "image/png": "[encoded data removed]"
    }
   },
   "cell_type": "markdown",
   "id": "2661fc8f",
   "metadata": {},
   "source": [
    "# Q3. Do different regions have different charges, on average?\n",
    "* Metric measurement:  'charges'\n",
    "* This is a NUMERIC test.\n",
    "* There four sample groups (southeast, southwest, northeast, and northwest)\n",
    "\n",
    "![image.png](attachment:image.png)\n",
    "\n",
    "***Null Hypothesis:***  All regions do not have significantly different average charges.\n",
    "\n",
    "***Alternate Hypothesis:***  All regions have significantly different average charges."
   ]
  },
  {
   "cell_type": "code",
   "execution_count": 22,
   "id": "2c359738",
   "metadata": {
    "scrolled": true
   },
   "outputs": [
    {
     "data": {
      "text/html": [
       "<div>\n",
       "<style scoped>\n",
       "    .dataframe tbody tr th:only-of-type {\n",
       "        vertical-align: middle;\n",
       "    }\n",
       "\n",
       "    .dataframe tbody tr th {\n",
       "        vertical-align: top;\n",
       "    }\n",
       "\n",
       "    .dataframe thead th {\n",
       "        text-align: right;\n",
       "    }\n",
       "</style>\n",
       "<table border=\"1\" class=\"dataframe\">\n",
       "  <thead>\n",
       "    <tr style=\"text-align: right;\">\n",
       "      <th></th>\n",
       "      <th>age</th>\n",
       "      <th>sex</th>\n",
       "      <th>bmi</th>\n",
       "      <th>children</th>\n",
       "      <th>smoker</th>\n",
       "      <th>region</th>\n",
       "      <th>charges</th>\n",
       "    </tr>\n",
       "  </thead>\n",
       "  <tbody>\n",
       "    <tr>\n",
       "      <th>0</th>\n",
       "      <td>19</td>\n",
       "      <td>female</td>\n",
       "      <td>27.900</td>\n",
       "      <td>0</td>\n",
       "      <td>yes</td>\n",
       "      <td>southwest</td>\n",
       "      <td>16884.92400</td>\n",
       "    </tr>\n",
       "    <tr>\n",
       "      <th>1</th>\n",
       "      <td>18</td>\n",
       "      <td>male</td>\n",
       "      <td>33.770</td>\n",
       "      <td>1</td>\n",
       "      <td>no</td>\n",
       "      <td>southeast</td>\n",
       "      <td>1725.55230</td>\n",
       "    </tr>\n",
       "    <tr>\n",
       "      <th>2</th>\n",
       "      <td>28</td>\n",
       "      <td>male</td>\n",
       "      <td>33.000</td>\n",
       "      <td>3</td>\n",
       "      <td>no</td>\n",
       "      <td>southeast</td>\n",
       "      <td>4449.46200</td>\n",
       "    </tr>\n",
       "    <tr>\n",
       "      <th>3</th>\n",
       "      <td>33</td>\n",
       "      <td>male</td>\n",
       "      <td>22.705</td>\n",
       "      <td>0</td>\n",
       "      <td>no</td>\n",
       "      <td>northwest</td>\n",
       "      <td>21984.47061</td>\n",
       "    </tr>\n",
       "    <tr>\n",
       "      <th>4</th>\n",
       "      <td>32</td>\n",
       "      <td>male</td>\n",
       "      <td>28.880</td>\n",
       "      <td>0</td>\n",
       "      <td>no</td>\n",
       "      <td>northwest</td>\n",
       "      <td>3866.85520</td>\n",
       "    </tr>\n",
       "  </tbody>\n",
       "</table>\n",
       "</div>"
      ],
      "text/plain": [
       "   age     sex     bmi  children smoker     region      charges\n",
       "0   19  female  27.900         0    yes  southwest  16884.92400\n",
       "1   18    male  33.770         1     no  southeast   1725.55230\n",
       "2   28    male  33.000         3     no  southeast   4449.46200\n",
       "3   33    male  22.705         0     no  northwest  21984.47061\n",
       "4   32    male  28.880         0     no  northwest   3866.85520"
      ]
     },
     "execution_count": 22,
     "metadata": {},
     "output_type": "execute_result"
    }
   ],
   "source": [
    "#quick view of dataframe\n",
    "df.head()"
   ]
  },
  {
   "cell_type": "code",
   "execution_count": 23,
   "id": "ed08561e",
   "metadata": {},
   "outputs": [
    {
     "data": {
      "text/plain": [
       "southeast    364\n",
       "southwest    325\n",
       "northwest    325\n",
       "northeast    324\n",
       "Name: region, dtype: int64"
      ]
     },
     "execution_count": 23,
     "metadata": {},
     "output_type": "execute_result"
    }
   ],
   "source": [
    "#Checking number of regions and their individual number of instances.\n",
    "df['region'].value_counts()"
   ]
  },
  {
   "cell_type": "code",
   "execution_count": 24,
   "id": "aa142ad1",
   "metadata": {
    "scrolled": false
   },
   "outputs": [
    {
     "data": {
      "image/png": "[encoded data removed]",
      "text/plain": [
       "<Figure size 640x480 with 1 Axes>"
      ]
     },
     "metadata": {},
     "output_type": "display_data"
    }
   ],
   "source": [
    "# visualisation of data.\n",
    "ax = sns.barplot(data=df, x='region',y='charges')\n",
    "ax.set_title(\"Regions and their charges.\");"
   ]
  },
  {
   "cell_type": "code",
   "execution_count": 25,
   "id": "e9fa57a0",
   "metadata": {},
   "outputs": [
    {
     "data": {
      "text/plain": [
       "dict_keys(['southwest', 'southeast', 'northwest', 'northeast'])"
      ]
     },
     "execution_count": 25,
     "metadata": {},
     "output_type": "execute_result"
    }
   ],
   "source": [
    "## Create groups dictionary.\n",
    "groups = {}\n",
    "## Loop through all unique categories\n",
    "for i in df['region'].unique():\n",
    "    ## Get series for group and rename\n",
    "    data = df.loc[df['region']==i,'charges'].copy()\n",
    "    \n",
    "    # save into the dictionary\n",
    "    groups[i] = data\n",
    "groups.keys()"
   ]
  },
  {
   "cell_type": "markdown",
   "id": "4d7a7f48",
   "metadata": {},
   "source": [
    "## One Way ANOVA\n",
    "Does the data meet the assumptions of this test before proceeding?\n",
    "* No significant outliers\n",
    "* Equal variance\n",
    "* Normality"
   ]
  },
  {
   "cell_type": "markdown",
   "id": "bf838f15",
   "metadata": {},
   "source": [
    "### Identifying Outliers - (using Z-Scores)\n",
    "NOTE:  Typically z-scores greater than 3 are considered outliers. "
   ]
  },
  {
   "cell_type": "code",
   "execution_count": 26,
   "id": "425da760",
   "metadata": {},
   "outputs": [
    {
     "name": "stdout",
     "output_type": "stream",
     "text": [
      "The total Number of observations across all groups:  N=1338\n",
      "For SOUTHWEST (n=325):  Mean\\Average=12346.94\n",
      "For SOUTHEAST (n=364):  Mean\\Average=14735.41\n",
      "For NORTHWEST (n=325):  Mean\\Average=12417.58\n",
      "For NORTHEAST (n=324):  Mean\\Average=13406.38\n"
     ]
    }
   ],
   "source": [
    "#Series of southwest charges\n",
    "southwest_charges = df.loc[ df['region']=='southwest',\"charges\"]\n",
    "#Series of southeast charges\n",
    "southeast_charges = df.loc[ df['region']=='southeast',\"charges\"]\n",
    "#Series of northwest charges\n",
    "northwest_charges = df.loc[ df['region']=='northwest',\"charges\"]\n",
    "#Series of northeast charges\n",
    "northeast_charges = df.loc[ df['region']=='northeast',\"charges\"]\n",
    "\n",
    "## Getting means\\averages for smoker and non-smoker charges\n",
    "print(f\"The total Number of observations across all groups:  N={len(southwest_charges)+len(southeast_charges)+len(northeast_charges)+len(northwest_charges)}\")\n",
    "print(f\"For SOUTHWEST (n={len(southwest_charges)}):  Mean\\Average={np.mean(southwest_charges):.2f}\")\n",
    "print(f\"For SOUTHEAST (n={len(southeast_charges)}):  Mean\\Average={np.mean(southeast_charges):.2f}\")\n",
    "print(f\"For NORTHWEST (n={len(northwest_charges)}):  Mean\\Average={np.mean(northwest_charges):.2f}\")\n",
    "print(f\"For NORTHEAST (n={len(northeast_charges)}):  Mean\\Average={np.mean(northeast_charges):.2f}\")"
   ]
  },
  {
   "cell_type": "code",
   "execution_count": 27,
   "id": "1de1e77e",
   "metadata": {},
   "outputs": [
    {
     "name": "stdout",
     "output_type": "stream",
     "text": [
      "Z-Score for SOUTHWEST:  8\n"
     ]
    }
   ],
   "source": [
    "#SOUTHWEST Z-Score\n",
    "zscores_sw = stats.zscore(southwest_charges)\n",
    "outliers_sw = abs(zscores_sw)>3\n",
    "print( f\"Z-Score for SOUTHWEST:  {np.sum(outliers_sw)}\" )"
   ]
  },
  {
   "cell_type": "code",
   "execution_count": 28,
   "id": "6ae13941",
   "metadata": {},
   "outputs": [],
   "source": [
    "#Removing outliers from SOUTHWEST group.\n",
    "## ONLY REMOVE AN OUTLIER ONCE,\n",
    "## REGARDLESS OF INITIAL VALUE THAT INDICATED THAT REMOVAL WAS NEEDED.\n",
    "\n",
    "southwest_charges = southwest_charges[(np.abs(stats.zscore(southwest_charges)) < 3)]"
   ]
  },
  {
   "cell_type": "code",
   "execution_count": 29,
   "id": "d2bcd7a7",
   "metadata": {},
   "outputs": [
    {
     "name": "stdout",
     "output_type": "stream",
     "text": [
      "Z-Score for SOUTHEAST:  2\n"
     ]
    }
   ],
   "source": [
    "#SOUTHEAST Z-Score\n",
    "zscores_se = stats.zscore(southeast_charges)\n",
    "outliers_se = abs(zscores_se)>3\n",
    "print( f\"Z-Score for SOUTHEAST:  {np.sum(outliers_se)}\" )"
   ]
  },
  {
   "cell_type": "code",
   "execution_count": 30,
   "id": "f62f7f8d",
   "metadata": {},
   "outputs": [
    {
     "name": "stdout",
     "output_type": "stream",
     "text": [
      "Z-Score for NORTHWEST:  7\n"
     ]
    }
   ],
   "source": [
    "#NORTHWEST Z-Score\n",
    "zscores_nw = stats.zscore(northwest_charges)\n",
    "outliers_nw = abs(zscores_nw)>3\n",
    "print( f\"Z-Score for NORTHWEST:  {np.sum(outliers_nw)}\" )"
   ]
  },
  {
   "cell_type": "code",
   "execution_count": 31,
   "id": "8b64f961",
   "metadata": {},
   "outputs": [],
   "source": [
    "#Removing outliers from NORTHWEST group.\n",
    "## ONLY REMOVE AN OUTLIER ONCE,\n",
    "## REGARDLESS OF INITIAL VALUE THAT INDICATED THAT REMOVAL WAS NEEDED.\n",
    "\n",
    "northwest_charges = northwest_charges[(np.abs(stats.zscore(northwest_charges)) < 3)]"
   ]
  },
  {
   "cell_type": "code",
   "execution_count": 32,
   "id": "cddecaff",
   "metadata": {},
   "outputs": [
    {
     "name": "stdout",
     "output_type": "stream",
     "text": [
      "Z-Score for NORTHEAST:  4\n"
     ]
    }
   ],
   "source": [
    "#NORTHEAST Z-Score\n",
    "zscores_ne = stats.zscore(northeast_charges)\n",
    "outliers_ne = abs(zscores_ne)>3\n",
    "print( f\"Z-Score for NORTHEAST:  {np.sum(outliers_ne)}\" )"
   ]
  },
  {
   "cell_type": "code",
   "execution_count": 33,
   "id": "9a3548f8",
   "metadata": {},
   "outputs": [],
   "source": [
    "#Removing outliers from NORTHEAST group.\n",
    "## ONLY REMOVE AN OUTLIER ONCE,\n",
    "## REGARDLESS OF INITIAL VALUE THAT INDICATED THAT REMOVAL WAS NEEDED.\n",
    "\n",
    "northeast_charges = northeast_charges[(np.abs(stats.zscore(northeast_charges)) < 3)]"
   ]
  },
  {
   "cell_type": "markdown",
   "id": "57543bb7",
   "metadata": {},
   "source": [
    "## Normality\n",
    "-Test size (n) is large enough for each group (where n in each group is greater than 300) where normality testing is not needed."
   ]
  },
  {
   "cell_type": "code",
   "execution_count": 34,
   "id": "0216be5d",
   "metadata": {
    "scrolled": true
   },
   "outputs": [
    {
     "data": {
      "text/html": [
       "<div>\n",
       "<style scoped>\n",
       "    .dataframe tbody tr th:only-of-type {\n",
       "        vertical-align: middle;\n",
       "    }\n",
       "\n",
       "    .dataframe tbody tr th {\n",
       "        vertical-align: top;\n",
       "    }\n",
       "\n",
       "    .dataframe thead th {\n",
       "        text-align: right;\n",
       "    }\n",
       "</style>\n",
       "<table border=\"1\" class=\"dataframe\">\n",
       "  <thead>\n",
       "    <tr style=\"text-align: right;\">\n",
       "      <th></th>\n",
       "      <th>n</th>\n",
       "      <th>p</th>\n",
       "      <th>test stat</th>\n",
       "    </tr>\n",
       "  </thead>\n",
       "  <tbody>\n",
       "    <tr>\n",
       "      <th>southwest</th>\n",
       "      <td>325.0</td>\n",
       "      <td>6.125298e-23</td>\n",
       "      <td>102.294059</td>\n",
       "    </tr>\n",
       "    <tr>\n",
       "      <th>southeast</th>\n",
       "      <td>364.0</td>\n",
       "      <td>4.953297e-15</td>\n",
       "      <td>65.877446</td>\n",
       "    </tr>\n",
       "    <tr>\n",
       "      <th>northwest</th>\n",
       "      <td>325.0</td>\n",
       "      <td>5.184209e-24</td>\n",
       "      <td>107.232850</td>\n",
       "    </tr>\n",
       "    <tr>\n",
       "      <th>northeast</th>\n",
       "      <td>324.0</td>\n",
       "      <td>1.455431e-19</td>\n",
       "      <td>86.747629</td>\n",
       "    </tr>\n",
       "  </tbody>\n",
       "</table>\n",
       "</div>"
      ],
      "text/plain": [
       "               n             p   test stat\n",
       "southwest  325.0  6.125298e-23  102.294059\n",
       "southeast  364.0  4.953297e-15   65.877446\n",
       "northwest  325.0  5.184209e-24  107.232850\n",
       "northeast  324.0  1.455431e-19   86.747629"
      ]
     },
     "execution_count": 34,
     "metadata": {},
     "output_type": "execute_result"
    }
   ],
   "source": [
    "## Running normal test on each group and confirming there are >20 in each group\n",
    "norm_results = {}\n",
    "for i, data in groups.items():\n",
    "    stat, p = stats.normaltest(data)\n",
    "    ## save the p val, test statistic, and the size of the group\n",
    "    norm_results[i] = {'n': len(data),\n",
    "                             'p':p,\n",
    "                             'test stat':stat,}\n",
    "## convert to a dataframe\n",
    "norm_results_df = pd.DataFrame(norm_results).T\n",
    "norm_results_df"
   ]
  },
  {
   "cell_type": "code",
   "execution_count": 35,
   "id": "ad3fdaa4",
   "metadata": {
    "scrolled": true
   },
   "outputs": [
    {
     "data": {
      "text/html": [
       "<div>\n",
       "<style scoped>\n",
       "    .dataframe tbody tr th:only-of-type {\n",
       "        vertical-align: middle;\n",
       "    }\n",
       "\n",
       "    .dataframe tbody tr th {\n",
       "        vertical-align: top;\n",
       "    }\n",
       "\n",
       "    .dataframe thead th {\n",
       "        text-align: right;\n",
       "    }\n",
       "</style>\n",
       "<table border=\"1\" class=\"dataframe\">\n",
       "  <thead>\n",
       "    <tr style=\"text-align: right;\">\n",
       "      <th></th>\n",
       "      <th>n</th>\n",
       "      <th>p</th>\n",
       "      <th>test stat</th>\n",
       "      <th>significant diff</th>\n",
       "    </tr>\n",
       "  </thead>\n",
       "  <tbody>\n",
       "    <tr>\n",
       "      <th>southwest</th>\n",
       "      <td>325.0</td>\n",
       "      <td>6.125298e-23</td>\n",
       "      <td>102.294059</td>\n",
       "      <td>True</td>\n",
       "    </tr>\n",
       "    <tr>\n",
       "      <th>southeast</th>\n",
       "      <td>364.0</td>\n",
       "      <td>4.953297e-15</td>\n",
       "      <td>65.877446</td>\n",
       "      <td>True</td>\n",
       "    </tr>\n",
       "    <tr>\n",
       "      <th>northwest</th>\n",
       "      <td>325.0</td>\n",
       "      <td>5.184209e-24</td>\n",
       "      <td>107.232850</td>\n",
       "      <td>True</td>\n",
       "    </tr>\n",
       "    <tr>\n",
       "      <th>northeast</th>\n",
       "      <td>324.0</td>\n",
       "      <td>1.455431e-19</td>\n",
       "      <td>86.747629</td>\n",
       "      <td>True</td>\n",
       "    </tr>\n",
       "  </tbody>\n",
       "</table>\n",
       "</div>"
      ],
      "text/plain": [
       "               n             p   test stat  significant diff\n",
       "southwest  325.0  6.125298e-23  102.294059              True\n",
       "southeast  364.0  4.953297e-15   65.877446              True\n",
       "northwest  325.0  5.184209e-24  107.232850              True\n",
       "northeast  324.0  1.455431e-19   86.747629              True"
      ]
     },
     "execution_count": 35,
     "metadata": {},
     "output_type": "execute_result"
    }
   ],
   "source": [
    "### checking significant differences with pandas \n",
    "norm_results_df['significant diff'] = norm_results_df['p'] < .05 \n",
    "norm_results_df"
   ]
  },
  {
   "cell_type": "markdown",
   "id": "c3928cd7",
   "metadata": {},
   "source": [
    "p < 0.05\n",
    "\n",
    "* A p-value less than 0.05 means our distribution is significantly different than a normal distribution. A p-value less than .05 tells us we can reject the null hypothesis (accept the alternate hypothesis).\n",
    "\n",
    "p > 0.05\n",
    "\n",
    "* A p-value greater than 0.05 would say that there is no statistical difference between our distribution and a normal distribution which means the tested distribution should be considered normal.  We accept the null hypotheses (fail to reject the null hypothesis).\n",
    "\n",
    "All regions have a p-value greater than 0.05.  This supports the Alternative Hypothesis.\n",
    "\n",
    "**Because all of our sample points are greater than 15, we can safely ignore the normality assumption.**"
   ]
  },
  {
   "cell_type": "markdown",
   "id": "67d9c020",
   "metadata": {},
   "source": [
    "## Testing Equal Variance"
   ]
  },
  {
   "cell_type": "code",
   "execution_count": 36,
   "id": "3caad163",
   "metadata": {},
   "outputs": [
    {
     "data": {
      "text/plain": [
       "LeveneResult(statistic=5.559966758410606, pvalue=0.0008610590250786703)"
      ]
     },
     "execution_count": 36,
     "metadata": {},
     "output_type": "execute_result"
    }
   ],
   "source": [
    "#unpacking all values in the group with the * operator \n",
    "\n",
    "result = stats.levene(*groups.values())\n",
    "result"
   ]
  },
  {
   "cell_type": "markdown",
   "id": "d577f49d",
   "metadata": {},
   "source": [
    "P-value is less than 0.05.  We DO NO have equal variance.  Rejecting the null hypothesis"
   ]
  },
  {
   "cell_type": "markdown",
   "id": "053830d0",
   "metadata": {},
   "source": [
    "## T-test"
   ]
  },
  {
   "cell_type": "code",
   "execution_count": 37,
   "id": "4469352d",
   "metadata": {},
   "outputs": [
    {
     "data": {
      "text/plain": [
       "KruskalResult(statistic=4.734181215658743, pvalue=0.19232908072121002)"
      ]
     },
     "execution_count": 37,
     "metadata": {},
     "output_type": "execute_result"
    }
   ],
   "source": [
    "# Independent t-test with equal_var set to False\n",
    "kw_result = stats.kruskal(*groups.values())\n",
    "kw_result"
   ]
  },
  {
   "cell_type": "markdown",
   "id": "b2357370",
   "metadata": {},
   "source": [
    "P-VALUE is greater than 0.05.  We would accept the null hypothesis (fail to reject the NULL Hypothesis.)"
   ]
  }
 ],
 "metadata": {
  "kernelspec": {
   "display_name": "Python (dojo-env)",
   "language": "python",
   "name": "dojo-env"
  },
  "language_info": {
   "codemirror_mode": {
    "name": "ipython",
    "version": 3
   },
   "file_extension": ".py",
   "mimetype": "text/x-python",
   "name": "python",
   "nbconvert_exporter": "python",
   "pygments_lexer": "ipython3",
   "version": "3.9.15"
  },
  "toc": {
   "base_numbering": 1,
   "nav_menu": {},
   "number_sections": false,
   "sideBar": true,
   "skip_h1_title": false,
   "title_cell": "Table of Contents",
   "title_sidebar": "Contents",
   "toc_cell": false,
   "toc_position": {},
   "toc_section_display": true,
   "toc_window_display": false
  }
 },
 "nbformat": 4,
 "nbformat_minor": 5
}
